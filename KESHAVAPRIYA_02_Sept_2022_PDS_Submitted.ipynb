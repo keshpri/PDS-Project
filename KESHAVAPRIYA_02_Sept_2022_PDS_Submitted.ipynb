{
 "cells": [
  {
   "cell_type": "markdown",
   "id": "6a7d5404",
   "metadata": {},
   "source": [
    "<font color='blue'>\n",
    "    <font size = 5>\n",
    "        You have been given the role of a business analyst for an E-Commerce company and have been asked to prepare a basic report on the data. Follow the steps below for preparation of the report. \n",
    "\n",
    "Before you start analysing the data, it is always a good practice to see the size of the data, its features and feature types. If the data set is big, it is not possible to print out all the records. \n",
    "    </font>\n",
    "####  Note: Use the markdown feature of Python to explain your answer.\n",
    "    "
   ]
  },
  {
   "cell_type": "markdown",
   "id": "daf5d935",
   "metadata": {},
   "source": [
    "## Load the necessary libraries. Import and load the dataset with a name ECom_Data ."
   ]
  },
  {
   "cell_type": "code",
   "execution_count": 53,
   "id": "eec2a3b5",
   "metadata": {},
   "outputs": [],
   "source": [
    "import numpy as np\n",
    "import pandas as pd\n",
    "import matplotlib.pyplot as plt\n",
    "import seaborn as sns\n",
    "pd.options.display.max_rows = 10"
   ]
  },
  {
   "cell_type": "code",
   "execution_count": 107,
   "id": "8e1fcc97",
   "metadata": {},
   "outputs": [],
   "source": [
    "# Get the Data\n",
    "ECom_Data=pd.read_csv(\"E-Commerce_Flipkart.csv\")"
   ]
  },
  {
   "cell_type": "markdown",
   "id": "2cf5f20f",
   "metadata": {},
   "source": [
    "<font color='blue'>\n",
    "    <font size = 5>\n",
    "        We have read the data and stored the data in \"ECom_Data\" variable </font>"
   ]
  },
  {
   "cell_type": "markdown",
   "id": "a0a4f84a",
   "metadata": {},
   "source": [
    "## Q 1.\tTo get familiar with the data\n",
    "## a)\tPrint out the first 10 and the last 10 records of the data. (2 marks)\n",
    "## b)\tHow many rows and columns are present in the dataset? Use any two different methods to extract this information. (2 + 2 + 2 marks)\n",
    "## c)\tHow many object data types are there? (1 mark)\n",
    "## d)\tIs there any Boolean data type? (1 mark) \n",
    "#### Note: Use the markdown feature of Python to explain your answer.\n"
   ]
  },
  {
   "cell_type": "markdown",
   "id": "768d94a1",
   "metadata": {},
   "source": [
    "### Ans 1 a) First 10 records of the data"
   ]
  },
  {
   "cell_type": "code",
   "execution_count": 55,
   "id": "6684f5a1",
   "metadata": {},
   "outputs": [
    {
     "data": {
      "text/html": [
       "<div>\n",
       "<style scoped>\n",
       "    .dataframe tbody tr th:only-of-type {\n",
       "        vertical-align: middle;\n",
       "    }\n",
       "\n",
       "    .dataframe tbody tr th {\n",
       "        vertical-align: top;\n",
       "    }\n",
       "\n",
       "    .dataframe thead th {\n",
       "        text-align: right;\n",
       "    }\n",
       "</style>\n",
       "<table border=\"1\" class=\"dataframe\">\n",
       "  <thead>\n",
       "    <tr style=\"text-align: right;\">\n",
       "      <th></th>\n",
       "      <th>Customer_uniq_id</th>\n",
       "      <th>Region</th>\n",
       "      <th>Order_Date</th>\n",
       "      <th>Expected_Delivery_Date</th>\n",
       "      <th>Delivered_Date</th>\n",
       "      <th>product_name</th>\n",
       "      <th>product_main_category</th>\n",
       "      <th>product_subcategory</th>\n",
       "      <th>product_category_filter</th>\n",
       "      <th>product_category_subfilter</th>\n",
       "      <th>product_unique ID</th>\n",
       "      <th>retail_price</th>\n",
       "      <th>discounted_price</th>\n",
       "      <th>product_rating</th>\n",
       "      <th>Brand</th>\n",
       "      <th>product_specifications</th>\n",
       "      <th>description</th>\n",
       "    </tr>\n",
       "  </thead>\n",
       "  <tbody>\n",
       "    <tr>\n",
       "      <th>0</th>\n",
       "      <td>c2d766ca982eca8304150849735ffef9</td>\n",
       "      <td>North</td>\n",
       "      <td>31-12-2021</td>\n",
       "      <td>03-01-2022</td>\n",
       "      <td>02-01-2022</td>\n",
       "      <td>Alisha Solid Women's Cycling Shorts</td>\n",
       "      <td>Clothing</td>\n",
       "      <td>Women's Clothing</td>\n",
       "      <td>Lingerie, Sleep &amp; Swimwear</td>\n",
       "      <td>Shorts</td>\n",
       "      <td>SRTEH2FF9KEDEFGF</td>\n",
       "      <td>999</td>\n",
       "      <td>379</td>\n",
       "      <td>2.0</td>\n",
       "      <td>Alisha</td>\n",
       "      <td>{\"product_specification\"=&gt;[{\"key\"=&gt;\"Number of ...</td>\n",
       "      <td>Key Features of Alisha Solid Women's Cycling S...</td>\n",
       "    </tr>\n",
       "    <tr>\n",
       "      <th>1</th>\n",
       "      <td>7f7036a6d550aaa89d34c77bd39a5e48</td>\n",
       "      <td>East</td>\n",
       "      <td>31-12-2021</td>\n",
       "      <td>03-01-2022</td>\n",
       "      <td>02-01-2022</td>\n",
       "      <td>FabHomeDecor Fabric Double Sofa Bed</td>\n",
       "      <td>Furniture</td>\n",
       "      <td>Living Room Furniture</td>\n",
       "      <td>Sofa Beds &amp; Futons</td>\n",
       "      <td>FabHomeDecor Fabric Double Sofa Bed (Finish C...</td>\n",
       "      <td>SBEEH3QGU7MFYJFY</td>\n",
       "      <td>32157</td>\n",
       "      <td>22646</td>\n",
       "      <td>2.0</td>\n",
       "      <td>FabHomeDecor</td>\n",
       "      <td>{\"product_specification\"=&gt;[{\"key\"=&gt;\"Installati...</td>\n",
       "      <td>FabHomeDecor Fabric Double Sofa Bed (Finish Co...</td>\n",
       "    </tr>\n",
       "    <tr>\n",
       "      <th>2</th>\n",
       "      <td>f449ec65dcbc041b6ae5e6a32717d01b</td>\n",
       "      <td>East</td>\n",
       "      <td>31-12-2021</td>\n",
       "      <td>03-01-2022</td>\n",
       "      <td>02-01-2022</td>\n",
       "      <td>AW Bellies</td>\n",
       "      <td>Footwear</td>\n",
       "      <td>Women's Footwear</td>\n",
       "      <td>Ballerinas</td>\n",
       "      <td>AW Bellies</td>\n",
       "      <td>SHOEH4GRSUBJGZXE</td>\n",
       "      <td>999</td>\n",
       "      <td>499</td>\n",
       "      <td>1.0</td>\n",
       "      <td>AW</td>\n",
       "      <td>{\"product_specification\"=&gt;[{\"key\"=&gt;\"Ideal For\"...</td>\n",
       "      <td>Key Features of AW Bellies Sandals Wedges Heel...</td>\n",
       "    </tr>\n",
       "    <tr>\n",
       "      <th>3</th>\n",
       "      <td>0973b37acd0c664e3de26e97e5571454</td>\n",
       "      <td>West</td>\n",
       "      <td>31-12-2021</td>\n",
       "      <td>03-01-2022</td>\n",
       "      <td>02-01-2022</td>\n",
       "      <td>Alisha Solid Women's Cycling Shorts</td>\n",
       "      <td>Clothing</td>\n",
       "      <td>Women's Clothing</td>\n",
       "      <td>Lingerie, Sleep &amp; Swimwear</td>\n",
       "      <td>Shorts</td>\n",
       "      <td>SRTEH2F6HUZMQ6SJ</td>\n",
       "      <td>699</td>\n",
       "      <td>267</td>\n",
       "      <td>5.0</td>\n",
       "      <td>Alisha</td>\n",
       "      <td>{\"product_specification\"=&gt;[{\"key\"=&gt;\"Number of ...</td>\n",
       "      <td>Key Features of Alisha Solid Women's Cycling S...</td>\n",
       "    </tr>\n",
       "    <tr>\n",
       "      <th>4</th>\n",
       "      <td>bc940ea42ee6bef5ac7cea3fb5cfbee7</td>\n",
       "      <td>West</td>\n",
       "      <td>31-12-2021</td>\n",
       "      <td>03-01-2022</td>\n",
       "      <td>02-01-2022</td>\n",
       "      <td>Sicons All Purpose Arnica Dog Shampoo</td>\n",
       "      <td>Pet Supplies</td>\n",
       "      <td>Grooming</td>\n",
       "      <td>Skin &amp; Coat Care</td>\n",
       "      <td>Shampoo</td>\n",
       "      <td>PSOEH3ZYDMSYARJ5</td>\n",
       "      <td>220</td>\n",
       "      <td>210</td>\n",
       "      <td>5.0</td>\n",
       "      <td>Sicons</td>\n",
       "      <td>{\"product_specification\"=&gt;[{\"key\"=&gt;\"Pet Type\",...</td>\n",
       "      <td>Specifications of Sicons All Purpose Arnica Do...</td>\n",
       "    </tr>\n",
       "    <tr>\n",
       "      <th>5</th>\n",
       "      <td>ce5a6818f7707e2cb61fdcdbba61f5ad</td>\n",
       "      <td>East</td>\n",
       "      <td>25-12-2021</td>\n",
       "      <td>28-12-2021</td>\n",
       "      <td>27-12-2021</td>\n",
       "      <td>Alisha Solid Women's Cycling Shorts</td>\n",
       "      <td>Clothing</td>\n",
       "      <td>Women's Clothing</td>\n",
       "      <td>Lingerie, Sleep &amp; Swimwear</td>\n",
       "      <td>Shorts</td>\n",
       "      <td>SRTEH2FVVKRBAXHB</td>\n",
       "      <td>1199</td>\n",
       "      <td>479</td>\n",
       "      <td>4.0</td>\n",
       "      <td>Alisha</td>\n",
       "      <td>{\"product_specification\"=&gt;[{\"key\"=&gt;\"Number of ...</td>\n",
       "      <td>Key Features of Alisha Solid Women's Cycling S...</td>\n",
       "    </tr>\n",
       "    <tr>\n",
       "      <th>6</th>\n",
       "      <td>8542703ca9e6ebdf6d742638dfb1f2ca</td>\n",
       "      <td>East</td>\n",
       "      <td>25-12-2021</td>\n",
       "      <td>28-12-2021</td>\n",
       "      <td>27-12-2021</td>\n",
       "      <td>FabHomeDecor Fabric Double Sofa Bed</td>\n",
       "      <td>Furniture</td>\n",
       "      <td>Living Room Furniture</td>\n",
       "      <td>Sofa Beds &amp; Futons</td>\n",
       "      <td>FabHomeDecor Fabric Double Sofa Bed (Finish C...</td>\n",
       "      <td>SBEEH3QGYGHFUEXN</td>\n",
       "      <td>32157</td>\n",
       "      <td>22646</td>\n",
       "      <td>2.0</td>\n",
       "      <td>FabHomeDecor</td>\n",
       "      <td>{\"product_specification\"=&gt;[{\"key\"=&gt;\"Installati...</td>\n",
       "      <td>FabHomeDecor Fabric Double Sofa Bed (Finish Co...</td>\n",
       "    </tr>\n",
       "    <tr>\n",
       "      <th>7</th>\n",
       "      <td>29c8d290caa451f97b1c32df64477a2c</td>\n",
       "      <td>North</td>\n",
       "      <td>25-12-2021</td>\n",
       "      <td>28-12-2021</td>\n",
       "      <td>27-12-2021</td>\n",
       "      <td>dilli bazaaar Bellies, Corporate Casuals, Casuals</td>\n",
       "      <td>Footwear</td>\n",
       "      <td>Women's Footwear</td>\n",
       "      <td>Ballerinas</td>\n",
       "      <td>dilli bazaaar Bellies, Corporate Casuals, Cas...</td>\n",
       "      <td>SHOEH3DZBFR88SCK</td>\n",
       "      <td>699</td>\n",
       "      <td>349</td>\n",
       "      <td>5.0</td>\n",
       "      <td>dilli bazaaar</td>\n",
       "      <td>{\"product_specification\"=&gt;[{\"key\"=&gt;\"Occasion\",...</td>\n",
       "      <td>Key Features of dilli bazaaar Bellies, Corpora...</td>\n",
       "    </tr>\n",
       "    <tr>\n",
       "      <th>8</th>\n",
       "      <td>4044c0ac52c1ee4b28777417651faf42</td>\n",
       "      <td>East</td>\n",
       "      <td>25-12-2021</td>\n",
       "      <td>28-12-2021</td>\n",
       "      <td>27-12-2021</td>\n",
       "      <td>Alisha Solid Women's Cycling Shorts</td>\n",
       "      <td>Clothing</td>\n",
       "      <td>Women's Clothing</td>\n",
       "      <td>Lingerie, Sleep &amp; Swimwear</td>\n",
       "      <td>Shorts</td>\n",
       "      <td>SRTEH2FVUHAAVH9X</td>\n",
       "      <td>1199</td>\n",
       "      <td>479</td>\n",
       "      <td>1.0</td>\n",
       "      <td>Alisha</td>\n",
       "      <td>{\"product_specification\"=&gt;[{\"key\"=&gt;\"Number of ...</td>\n",
       "      <td>Key Features of Alisha Solid Women's Cycling S...</td>\n",
       "    </tr>\n",
       "    <tr>\n",
       "      <th>9</th>\n",
       "      <td>e54bc0a7c3429da2ebef0b30331fe3d2</td>\n",
       "      <td>East</td>\n",
       "      <td>25-12-2021</td>\n",
       "      <td>28-12-2021</td>\n",
       "      <td>27-12-2021</td>\n",
       "      <td>Ladela Bellies</td>\n",
       "      <td>Footwear</td>\n",
       "      <td>Women's Footwear</td>\n",
       "      <td>Ballerinas</td>\n",
       "      <td>Ladela Bellies</td>\n",
       "      <td>SHOEH4KM2W3Z6EH5</td>\n",
       "      <td>1724</td>\n",
       "      <td>950</td>\n",
       "      <td>5.0</td>\n",
       "      <td>Ladela</td>\n",
       "      <td>{\"product_specification\"=&gt;[{\"key\"=&gt;\"Occasion\",...</td>\n",
       "      <td>Key Features of Ladela Bellies Brand: LADELA C...</td>\n",
       "    </tr>\n",
       "  </tbody>\n",
       "</table>\n",
       "</div>"
      ],
      "text/plain": [
       "                   Customer_uniq_id Region  Order_Date Expected_Delivery_Date  \\\n",
       "0  c2d766ca982eca8304150849735ffef9  North  31-12-2021             03-01-2022   \n",
       "1  7f7036a6d550aaa89d34c77bd39a5e48  East   31-12-2021             03-01-2022   \n",
       "2  f449ec65dcbc041b6ae5e6a32717d01b  East   31-12-2021             03-01-2022   \n",
       "3  0973b37acd0c664e3de26e97e5571454   West  31-12-2021             03-01-2022   \n",
       "4  bc940ea42ee6bef5ac7cea3fb5cfbee7   West  31-12-2021             03-01-2022   \n",
       "5  ce5a6818f7707e2cb61fdcdbba61f5ad  East   25-12-2021             28-12-2021   \n",
       "6  8542703ca9e6ebdf6d742638dfb1f2ca  East   25-12-2021             28-12-2021   \n",
       "7  29c8d290caa451f97b1c32df64477a2c  North  25-12-2021             28-12-2021   \n",
       "8  4044c0ac52c1ee4b28777417651faf42  East   25-12-2021             28-12-2021   \n",
       "9  e54bc0a7c3429da2ebef0b30331fe3d2  East   25-12-2021             28-12-2021   \n",
       "\n",
       "  Delivered_Date                                       product_name  \\\n",
       "0     02-01-2022                Alisha Solid Women's Cycling Shorts   \n",
       "1     02-01-2022                FabHomeDecor Fabric Double Sofa Bed   \n",
       "2     02-01-2022                                         AW Bellies   \n",
       "3     02-01-2022                Alisha Solid Women's Cycling Shorts   \n",
       "4     02-01-2022              Sicons All Purpose Arnica Dog Shampoo   \n",
       "5     27-12-2021                Alisha Solid Women's Cycling Shorts   \n",
       "6     27-12-2021                FabHomeDecor Fabric Double Sofa Bed   \n",
       "7     27-12-2021  dilli bazaaar Bellies, Corporate Casuals, Casuals   \n",
       "8     27-12-2021                Alisha Solid Women's Cycling Shorts   \n",
       "9     27-12-2021                                     Ladela Bellies   \n",
       "\n",
       "  product_main_category      product_subcategory  \\\n",
       "0             Clothing         Women's Clothing    \n",
       "1            Furniture    Living Room Furniture    \n",
       "2             Footwear         Women's Footwear    \n",
       "3             Clothing         Women's Clothing    \n",
       "4         Pet Supplies                 Grooming    \n",
       "5             Clothing         Women's Clothing    \n",
       "6            Furniture    Living Room Furniture    \n",
       "7             Footwear         Women's Footwear    \n",
       "8             Clothing         Women's Clothing    \n",
       "9             Footwear         Women's Footwear    \n",
       "\n",
       "        product_category_filter  \\\n",
       "0   Lingerie, Sleep & Swimwear    \n",
       "1           Sofa Beds & Futons    \n",
       "2                   Ballerinas    \n",
       "3   Lingerie, Sleep & Swimwear    \n",
       "4             Skin & Coat Care    \n",
       "5   Lingerie, Sleep & Swimwear    \n",
       "6           Sofa Beds & Futons    \n",
       "7                   Ballerinas    \n",
       "8   Lingerie, Sleep & Swimwear    \n",
       "9                   Ballerinas    \n",
       "\n",
       "                          product_category_subfilter product_unique ID  \\\n",
       "0                                            Shorts   SRTEH2FF9KEDEFGF   \n",
       "1   FabHomeDecor Fabric Double Sofa Bed (Finish C...  SBEEH3QGU7MFYJFY   \n",
       "2                                         AW Bellies  SHOEH4GRSUBJGZXE   \n",
       "3                                            Shorts   SRTEH2F6HUZMQ6SJ   \n",
       "4                                           Shampoo   PSOEH3ZYDMSYARJ5   \n",
       "5                                            Shorts   SRTEH2FVVKRBAXHB   \n",
       "6   FabHomeDecor Fabric Double Sofa Bed (Finish C...  SBEEH3QGYGHFUEXN   \n",
       "7   dilli bazaaar Bellies, Corporate Casuals, Cas...  SHOEH3DZBFR88SCK   \n",
       "8                                            Shorts   SRTEH2FVUHAAVH9X   \n",
       "9                                     Ladela Bellies  SHOEH4KM2W3Z6EH5   \n",
       "\n",
       "   retail_price  discounted_price  product_rating          Brand  \\\n",
       "0           999               379             2.0         Alisha   \n",
       "1         32157             22646             2.0   FabHomeDecor   \n",
       "2           999               499             1.0             AW   \n",
       "3           699               267             5.0         Alisha   \n",
       "4           220               210             5.0         Sicons   \n",
       "5          1199               479             4.0         Alisha   \n",
       "6         32157             22646             2.0   FabHomeDecor   \n",
       "7           699               349             5.0  dilli bazaaar   \n",
       "8          1199               479             1.0         Alisha   \n",
       "9          1724               950             5.0         Ladela   \n",
       "\n",
       "                              product_specifications  \\\n",
       "0  {\"product_specification\"=>[{\"key\"=>\"Number of ...   \n",
       "1  {\"product_specification\"=>[{\"key\"=>\"Installati...   \n",
       "2  {\"product_specification\"=>[{\"key\"=>\"Ideal For\"...   \n",
       "3  {\"product_specification\"=>[{\"key\"=>\"Number of ...   \n",
       "4  {\"product_specification\"=>[{\"key\"=>\"Pet Type\",...   \n",
       "5  {\"product_specification\"=>[{\"key\"=>\"Number of ...   \n",
       "6  {\"product_specification\"=>[{\"key\"=>\"Installati...   \n",
       "7  {\"product_specification\"=>[{\"key\"=>\"Occasion\",...   \n",
       "8  {\"product_specification\"=>[{\"key\"=>\"Number of ...   \n",
       "9  {\"product_specification\"=>[{\"key\"=>\"Occasion\",...   \n",
       "\n",
       "                                         description  \n",
       "0  Key Features of Alisha Solid Women's Cycling S...  \n",
       "1  FabHomeDecor Fabric Double Sofa Bed (Finish Co...  \n",
       "2  Key Features of AW Bellies Sandals Wedges Heel...  \n",
       "3  Key Features of Alisha Solid Women's Cycling S...  \n",
       "4  Specifications of Sicons All Purpose Arnica Do...  \n",
       "5  Key Features of Alisha Solid Women's Cycling S...  \n",
       "6  FabHomeDecor Fabric Double Sofa Bed (Finish Co...  \n",
       "7  Key Features of dilli bazaaar Bellies, Corpora...  \n",
       "8  Key Features of Alisha Solid Women's Cycling S...  \n",
       "9  Key Features of Ladela Bellies Brand: LADELA C...  "
      ]
     },
     "execution_count": 55,
     "metadata": {},
     "output_type": "execute_result"
    }
   ],
   "source": [
    "# Displaying first 10 rows of ECom_Data (Data Frame)\n",
    "ECom_Data.head(10) "
   ]
  },
  {
   "cell_type": "markdown",
   "id": "0a345f49",
   "metadata": {},
   "source": [
    "### Ans 1 a) Last 10 rows of Data"
   ]
  },
  {
   "cell_type": "code",
   "execution_count": 172,
   "id": "91490d89",
   "metadata": {},
   "outputs": [
    {
     "data": {
      "text/html": [
       "<div>\n",
       "<style scoped>\n",
       "    .dataframe tbody tr th:only-of-type {\n",
       "        vertical-align: middle;\n",
       "    }\n",
       "\n",
       "    .dataframe tbody tr th {\n",
       "        vertical-align: top;\n",
       "    }\n",
       "\n",
       "    .dataframe thead th {\n",
       "        text-align: right;\n",
       "    }\n",
       "</style>\n",
       "<table border=\"1\" class=\"dataframe\">\n",
       "  <thead>\n",
       "    <tr style=\"text-align: right;\">\n",
       "      <th></th>\n",
       "      <th>Customer_uniq_id</th>\n",
       "      <th>Region</th>\n",
       "      <th>Order_Date</th>\n",
       "      <th>Expected_Delivery_Date</th>\n",
       "      <th>Delivered_Date</th>\n",
       "      <th>product_name</th>\n",
       "      <th>product_main_category</th>\n",
       "      <th>product_subcategory</th>\n",
       "      <th>product_category_filter</th>\n",
       "      <th>product_category_subfilter</th>\n",
       "      <th>product_unique ID</th>\n",
       "      <th>retail_price</th>\n",
       "      <th>discounted_price</th>\n",
       "      <th>product_rating</th>\n",
       "      <th>Brand</th>\n",
       "      <th>company_revenue</th>\n",
       "      <th>brand_revenue</th>\n",
       "      <th>Order_month</th>\n",
       "    </tr>\n",
       "  </thead>\n",
       "  <tbody>\n",
       "    <tr>\n",
       "      <th>8917</th>\n",
       "      <td>4db03bc4ccbe216cf151b2f2b904ba3f</td>\n",
       "      <td>East</td>\n",
       "      <td>2020-12-01</td>\n",
       "      <td>04-12-2020</td>\n",
       "      <td>04-12-2020</td>\n",
       "      <td>Luca Fashion Girls Heels</td>\n",
       "      <td>Footwear</td>\n",
       "      <td>Kids' &amp; Infant Footwear</td>\n",
       "      <td>For Girls</td>\n",
       "      <td>Sandals</td>\n",
       "      <td>SNDEHG3DNVBFGAT5</td>\n",
       "      <td>999</td>\n",
       "      <td>499</td>\n",
       "      <td>4.0</td>\n",
       "      <td>Luca Fashion</td>\n",
       "      <td>74.85</td>\n",
       "      <td>424.15</td>\n",
       "      <td>12</td>\n",
       "    </tr>\n",
       "    <tr>\n",
       "      <th>8918</th>\n",
       "      <td>4d4d6aeb13fa253499d0dd45a5abd87e</td>\n",
       "      <td>West</td>\n",
       "      <td>2020-12-01</td>\n",
       "      <td>04-12-2020</td>\n",
       "      <td>04-12-2020</td>\n",
       "      <td>Shoetopia Girls Sandals</td>\n",
       "      <td>Footwear</td>\n",
       "      <td>Kids' &amp; Infant Footwear</td>\n",
       "      <td>For Girls</td>\n",
       "      <td>Sandals</td>\n",
       "      <td>SNDEG7DRWSX8HFXZ</td>\n",
       "      <td>499</td>\n",
       "      <td>399</td>\n",
       "      <td>4.0</td>\n",
       "      <td>Shoetopia</td>\n",
       "      <td>59.85</td>\n",
       "      <td>339.15</td>\n",
       "      <td>12</td>\n",
       "    </tr>\n",
       "    <tr>\n",
       "      <th>8919</th>\n",
       "      <td>ea19e7ef703293d3f6c799ca9db4642d</td>\n",
       "      <td>West</td>\n",
       "      <td>2020-12-01</td>\n",
       "      <td>04-12-2020</td>\n",
       "      <td>04-12-2020</td>\n",
       "      <td>SMART TRADERS Girls Sandals</td>\n",
       "      <td>Footwear</td>\n",
       "      <td>Kids' &amp; Infant Footwear</td>\n",
       "      <td>For Girls</td>\n",
       "      <td>Sandals</td>\n",
       "      <td>SNDEG7MZHHKZ58D2</td>\n",
       "      <td>999</td>\n",
       "      <td>499</td>\n",
       "      <td>5.0</td>\n",
       "      <td>SMART TRADERS</td>\n",
       "      <td>74.85</td>\n",
       "      <td>424.15</td>\n",
       "      <td>12</td>\n",
       "    </tr>\n",
       "    <tr>\n",
       "      <th>8920</th>\n",
       "      <td>19a53a958992fb575acffb5d41e7ef9e</td>\n",
       "      <td>East</td>\n",
       "      <td>2020-12-01</td>\n",
       "      <td>04-12-2020</td>\n",
       "      <td>04-12-2020</td>\n",
       "      <td>Beanz Girls Flats</td>\n",
       "      <td>Footwear</td>\n",
       "      <td>Kids' &amp; Infant Footwear</td>\n",
       "      <td>For Girls</td>\n",
       "      <td>Sandals</td>\n",
       "      <td>SNDEG7DYVFWHZBC4</td>\n",
       "      <td>1299</td>\n",
       "      <td>1299</td>\n",
       "      <td>3.0</td>\n",
       "      <td>Beanz</td>\n",
       "      <td>324.75</td>\n",
       "      <td>974.25</td>\n",
       "      <td>12</td>\n",
       "    </tr>\n",
       "    <tr>\n",
       "      <th>8921</th>\n",
       "      <td>09abab80c8dfdc6f268e0a6f05a0be11</td>\n",
       "      <td>North</td>\n",
       "      <td>2020-12-01</td>\n",
       "      <td>04-12-2020</td>\n",
       "      <td>04-12-2020</td>\n",
       "      <td>Nova KT 728S Electric Kettle</td>\n",
       "      <td>Home &amp; Kitchen</td>\n",
       "      <td>Kitchen Appliances</td>\n",
       "      <td>Electric Jug(heater)/Travel Kettles</td>\n",
       "      <td>Nova Electric Jug(heater)/Travel Kettles</td>\n",
       "      <td>EKTDG5C5QSADZZ8J</td>\n",
       "      <td>3195</td>\n",
       "      <td>699</td>\n",
       "      <td>3.6</td>\n",
       "      <td>Nova</td>\n",
       "      <td>174.75</td>\n",
       "      <td>524.25</td>\n",
       "      <td>12</td>\n",
       "    </tr>\n",
       "    <tr>\n",
       "      <th>8922</th>\n",
       "      <td>90d30478255e23621e8929ed15c2f6e4</td>\n",
       "      <td>South</td>\n",
       "      <td>2020-12-01</td>\n",
       "      <td>04-12-2020</td>\n",
       "      <td>04-12-2020</td>\n",
       "      <td>Sinina Chanderi Embroidered Salwar Suit Dupatt...</td>\n",
       "      <td>Clothing</td>\n",
       "      <td>Women's Clothing</td>\n",
       "      <td>Ethnic Wear</td>\n",
       "      <td>Fabric</td>\n",
       "      <td>FABEGGHHDFMY8BZU</td>\n",
       "      <td>2980</td>\n",
       "      <td>1490</td>\n",
       "      <td>3.0</td>\n",
       "      <td>Sinina</td>\n",
       "      <td>372.50</td>\n",
       "      <td>1117.50</td>\n",
       "      <td>12</td>\n",
       "    </tr>\n",
       "    <tr>\n",
       "      <th>8923</th>\n",
       "      <td>20a73e3f41490a73ceeba5f17658db8f</td>\n",
       "      <td>West</td>\n",
       "      <td>2020-12-01</td>\n",
       "      <td>04-12-2020</td>\n",
       "      <td>04-12-2020</td>\n",
       "      <td>Aarushi Fashion Chanderi Embroidered Salwar Su...</td>\n",
       "      <td>Clothing</td>\n",
       "      <td>Women's Clothing</td>\n",
       "      <td>Ethnic Wear</td>\n",
       "      <td>Fabric</td>\n",
       "      <td>FABEG8GFDUWRSNU3</td>\n",
       "      <td>2600</td>\n",
       "      <td>1300</td>\n",
       "      <td>1.0</td>\n",
       "      <td>Aarushi Fashion</td>\n",
       "      <td>325.00</td>\n",
       "      <td>975.00</td>\n",
       "      <td>12</td>\n",
       "    </tr>\n",
       "    <tr>\n",
       "      <th>8924</th>\n",
       "      <td>5c1554cd45f9d538c2c6947dbdd59c75</td>\n",
       "      <td>East</td>\n",
       "      <td>2020-12-01</td>\n",
       "      <td>04-12-2020</td>\n",
       "      <td>04-12-2020</td>\n",
       "      <td>Ambika Lahenga Embroidered Lehenga, Choli and ...</td>\n",
       "      <td>Clothing</td>\n",
       "      <td>Women's Clothing</td>\n",
       "      <td>Ethnic Wear</td>\n",
       "      <td>Lehenga Cholis</td>\n",
       "      <td>LEHEGGEHYN4G2RPW</td>\n",
       "      <td>39992</td>\n",
       "      <td>24995</td>\n",
       "      <td>1.0</td>\n",
       "      <td>Ambika Lahenga</td>\n",
       "      <td>6248.75</td>\n",
       "      <td>18746.25</td>\n",
       "      <td>12</td>\n",
       "    </tr>\n",
       "    <tr>\n",
       "      <th>8925</th>\n",
       "      <td>6b737a4deca1ed0e56c179e66036e994</td>\n",
       "      <td>West</td>\n",
       "      <td>2020-12-01</td>\n",
       "      <td>04-12-2020</td>\n",
       "      <td>04-12-2020</td>\n",
       "      <td>Sinina Chanderi Embroidered Salwar Suit Dupatt...</td>\n",
       "      <td>Clothing</td>\n",
       "      <td>Women's Clothing</td>\n",
       "      <td>Ethnic Wear</td>\n",
       "      <td>Fabric</td>\n",
       "      <td>FABEGGHHGSVCHGFV</td>\n",
       "      <td>2000</td>\n",
       "      <td>1000</td>\n",
       "      <td>3.0</td>\n",
       "      <td>Sinina</td>\n",
       "      <td>250.00</td>\n",
       "      <td>750.00</td>\n",
       "      <td>12</td>\n",
       "    </tr>\n",
       "    <tr>\n",
       "      <th>8926</th>\n",
       "      <td>a5235ac28d3d5487f54025f9d6b57433</td>\n",
       "      <td>North</td>\n",
       "      <td>2020-12-01</td>\n",
       "      <td>04-12-2020</td>\n",
       "      <td>04-12-2020</td>\n",
       "      <td>Aarushi Fashion Silk Striped Salwar Suit Dupat...</td>\n",
       "      <td>Clothing</td>\n",
       "      <td>Women's Clothing</td>\n",
       "      <td>Ethnic Wear</td>\n",
       "      <td>Fabric</td>\n",
       "      <td>FABEG8GYDAABECZH</td>\n",
       "      <td>2800</td>\n",
       "      <td>1350</td>\n",
       "      <td>4.0</td>\n",
       "      <td>Aarushi Fashion</td>\n",
       "      <td>337.50</td>\n",
       "      <td>1012.50</td>\n",
       "      <td>12</td>\n",
       "    </tr>\n",
       "  </tbody>\n",
       "</table>\n",
       "</div>"
      ],
      "text/plain": [
       "                      Customer_uniq_id Region Order_Date  \\\n",
       "8917  4db03bc4ccbe216cf151b2f2b904ba3f  East  2020-12-01   \n",
       "8918  4d4d6aeb13fa253499d0dd45a5abd87e   West 2020-12-01   \n",
       "8919  ea19e7ef703293d3f6c799ca9db4642d   West 2020-12-01   \n",
       "8920  19a53a958992fb575acffb5d41e7ef9e  East  2020-12-01   \n",
       "8921  09abab80c8dfdc6f268e0a6f05a0be11  North 2020-12-01   \n",
       "8922  90d30478255e23621e8929ed15c2f6e4  South 2020-12-01   \n",
       "8923  20a73e3f41490a73ceeba5f17658db8f   West 2020-12-01   \n",
       "8924  5c1554cd45f9d538c2c6947dbdd59c75  East  2020-12-01   \n",
       "8925  6b737a4deca1ed0e56c179e66036e994   West 2020-12-01   \n",
       "8926  a5235ac28d3d5487f54025f9d6b57433  North 2020-12-01   \n",
       "\n",
       "     Expected_Delivery_Date Delivered_Date  \\\n",
       "8917             04-12-2020     04-12-2020   \n",
       "8918             04-12-2020     04-12-2020   \n",
       "8919             04-12-2020     04-12-2020   \n",
       "8920             04-12-2020     04-12-2020   \n",
       "8921             04-12-2020     04-12-2020   \n",
       "8922             04-12-2020     04-12-2020   \n",
       "8923             04-12-2020     04-12-2020   \n",
       "8924             04-12-2020     04-12-2020   \n",
       "8925             04-12-2020     04-12-2020   \n",
       "8926             04-12-2020     04-12-2020   \n",
       "\n",
       "                                           product_name product_main_category  \\\n",
       "8917                           Luca Fashion Girls Heels             Footwear    \n",
       "8918                            Shoetopia Girls Sandals             Footwear    \n",
       "8919                        SMART TRADERS Girls Sandals             Footwear    \n",
       "8920                                  Beanz Girls Flats             Footwear    \n",
       "8921                       Nova KT 728S Electric Kettle       Home & Kitchen    \n",
       "8922  Sinina Chanderi Embroidered Salwar Suit Dupatt...             Clothing    \n",
       "8923  Aarushi Fashion Chanderi Embroidered Salwar Su...             Clothing    \n",
       "8924  Ambika Lahenga Embroidered Lehenga, Choli and ...             Clothing    \n",
       "8925  Sinina Chanderi Embroidered Salwar Suit Dupatt...             Clothing    \n",
       "8926  Aarushi Fashion Silk Striped Salwar Suit Dupat...             Clothing    \n",
       "\n",
       "            product_subcategory                product_category_filter  \\\n",
       "8917   Kids' & Infant Footwear                              For Girls    \n",
       "8918   Kids' & Infant Footwear                              For Girls    \n",
       "8919   Kids' & Infant Footwear                              For Girls    \n",
       "8920   Kids' & Infant Footwear                              For Girls    \n",
       "8921        Kitchen Appliances    Electric Jug(heater)/Travel Kettles    \n",
       "8922          Women's Clothing                            Ethnic Wear    \n",
       "8923          Women's Clothing                            Ethnic Wear    \n",
       "8924          Women's Clothing                            Ethnic Wear    \n",
       "8925          Women's Clothing                            Ethnic Wear    \n",
       "8926          Women's Clothing                            Ethnic Wear    \n",
       "\n",
       "                      product_category_subfilter product_unique ID  \\\n",
       "8917                                    Sandals   SNDEHG3DNVBFGAT5   \n",
       "8918                                    Sandals   SNDEG7DRWSX8HFXZ   \n",
       "8919                                    Sandals   SNDEG7MZHHKZ58D2   \n",
       "8920                                    Sandals   SNDEG7DYVFWHZBC4   \n",
       "8921   Nova Electric Jug(heater)/Travel Kettles   EKTDG5C5QSADZZ8J   \n",
       "8922                                     Fabric   FABEGGHHDFMY8BZU   \n",
       "8923                                     Fabric   FABEG8GFDUWRSNU3   \n",
       "8924                             Lehenga Cholis   LEHEGGEHYN4G2RPW   \n",
       "8925                                     Fabric   FABEGGHHGSVCHGFV   \n",
       "8926                                     Fabric   FABEG8GYDAABECZH   \n",
       "\n",
       "      retail_price  discounted_price  product_rating            Brand  \\\n",
       "8917           999               499             4.0     Luca Fashion   \n",
       "8918           499               399             4.0        Shoetopia   \n",
       "8919           999               499             5.0    SMART TRADERS   \n",
       "8920          1299              1299             3.0            Beanz   \n",
       "8921          3195               699             3.6             Nova   \n",
       "8922          2980              1490             3.0           Sinina   \n",
       "8923          2600              1300             1.0  Aarushi Fashion   \n",
       "8924         39992             24995             1.0   Ambika Lahenga   \n",
       "8925          2000              1000             3.0           Sinina   \n",
       "8926          2800              1350             4.0  Aarushi Fashion   \n",
       "\n",
       "      company_revenue  brand_revenue  Order_month  \n",
       "8917            74.85         424.15           12  \n",
       "8918            59.85         339.15           12  \n",
       "8919            74.85         424.15           12  \n",
       "8920           324.75         974.25           12  \n",
       "8921           174.75         524.25           12  \n",
       "8922           372.50        1117.50           12  \n",
       "8923           325.00         975.00           12  \n",
       "8924          6248.75       18746.25           12  \n",
       "8925           250.00         750.00           12  \n",
       "8926           337.50        1012.50           12  "
      ]
     },
     "execution_count": 172,
     "metadata": {},
     "output_type": "execute_result"
    }
   ],
   "source": [
    "# Displaying last 10 rows of ECom_Data (Data Frame)\n",
    "ECom_Data.tail(10)"
   ]
  },
  {
   "cell_type": "markdown",
   "id": "51aa4aff",
   "metadata": {},
   "source": [
    "### Explanation: The methods of DataFrame Object <br><br> &emsp;&emsp;1.pd.DataFrame.head(10) will display the first 10 ten rows of the data and<br><br> &emsp;&emsp;2.pd.DataFrame.tail(10) will display the last 10 rows of the data <br>"
   ]
  },
  {
   "cell_type": "markdown",
   "id": "b82f5587",
   "metadata": {},
   "source": [
    "## Ans 1 b) i. There are 8927 rows and 17 columns in the Dataset"
   ]
  },
  {
   "cell_type": "code",
   "execution_count": 173,
   "id": "78445795",
   "metadata": {},
   "outputs": [
    {
     "data": {
      "text/plain": [
       "(8927, 18)"
      ]
     },
     "execution_count": 173,
     "metadata": {},
     "output_type": "execute_result"
    }
   ],
   "source": [
    "# Displaying the shape of the Data Frame\n",
    "ECom_Data.shape"
   ]
  },
  {
   "cell_type": "code",
   "execution_count": 174,
   "id": "bfdd9225",
   "metadata": {},
   "outputs": [
    {
     "name": "stdout",
     "output_type": "stream",
     "text": [
      "<class 'pandas.core.frame.DataFrame'>\n",
      "RangeIndex: 8927 entries, 0 to 8926\n",
      "Data columns (total 18 columns):\n",
      " #   Column                      Non-Null Count  Dtype         \n",
      "---  ------                      --------------  -----         \n",
      " 0   Customer_uniq_id            8927 non-null   object        \n",
      " 1   Region                      8927 non-null   object        \n",
      " 2   Order_Date                  8927 non-null   datetime64[ns]\n",
      " 3   Expected_Delivery_Date      8927 non-null   object        \n",
      " 4   Delivered_Date              8927 non-null   object        \n",
      " 5   product_name                8927 non-null   object        \n",
      " 6   product_main_category       8927 non-null   object        \n",
      " 7   product_subcategory         8927 non-null   object        \n",
      " 8   product_category_filter     8927 non-null   object        \n",
      " 9   product_category_subfilter  8927 non-null   object        \n",
      " 10  product_unique ID           8927 non-null   object        \n",
      " 11  retail_price                8927 non-null   int64         \n",
      " 12  discounted_price            8927 non-null   int64         \n",
      " 13  product_rating              8927 non-null   float64       \n",
      " 14  Brand                       8927 non-null   object        \n",
      " 15  company_revenue             8927 non-null   float64       \n",
      " 16  brand_revenue               8927 non-null   float64       \n",
      " 17  Order_month                 8927 non-null   int64         \n",
      "dtypes: datetime64[ns](1), float64(3), int64(3), object(11)\n",
      "memory usage: 1.2+ MB\n"
     ]
    }
   ],
   "source": [
    "# Displaying the Information of the Data Frame\n",
    "ECom_Data.info()"
   ]
  },
  {
   "cell_type": "markdown",
   "id": "48baeda6",
   "metadata": {},
   "source": [
    "<font size = 4>\n",
    "<b>\n",
    "Ans 1B) ii-The two methods to extract this information are<br> &emsp;&emsp;&emsp;&emsp;pd.DataFrame.shape - attribute of Data Frame and <br>&emsp;&emsp;&emsp;&emsp;pd.DataFrame.info() method of the Data Frame <br>"
   ]
  },
  {
   "cell_type": "markdown",
   "id": "6aaa54a0",
   "metadata": {},
   "source": [
    "### Ans  1 c) There are 14 (Fourteen) object type data types in the Ecommerece data set"
   ]
  },
  {
   "cell_type": "markdown",
   "id": "5e63573c",
   "metadata": {},
   "source": [
    "### Ans 1 d) There are NO boolean data type present in the dataset"
   ]
  },
  {
   "cell_type": "markdown",
   "id": "5ada3539",
   "metadata": {},
   "source": [
    "### Observation: There are no missing values (null values) in the data set"
   ]
  },
  {
   "cell_type": "markdown",
   "id": "cc5d76f1",
   "metadata": {},
   "source": [
    "<font color='blue'>\n",
    "    <font size = 5>\n",
    " Once you are familiar with the data, you may decide that not all features are of use to you and you may want to delete the non-informative features (columns)</font>"
   ]
  },
  {
   "cell_type": "markdown",
   "id": "90db65ce",
   "metadata": {},
   "source": [
    "## Q 2.\tEliminating the non-informative columns.\n",
    "## a)\tDrop the columns product_specifications and description. (2 marks) \n",
    "## b)\tWhich method or function is used to permanently delete the columns mentioned in part (a)? Write the code explicitly (2 marks)\n",
    "### Note: Use the markdown feature of Python to explain your answer.\n"
   ]
  },
  {
   "cell_type": "markdown",
   "id": "e0e7e762",
   "metadata": {},
   "source": [
    "### Ans 2 a)  ECom_Data.drop(['product_specifications','description']),axis=1) will drop the two columns"
   ]
  },
  {
   "cell_type": "code",
   "execution_count": 109,
   "id": "35ad0821",
   "metadata": {},
   "outputs": [
    {
     "data": {
      "text/html": [
       "<div>\n",
       "<style scoped>\n",
       "    .dataframe tbody tr th:only-of-type {\n",
       "        vertical-align: middle;\n",
       "    }\n",
       "\n",
       "    .dataframe tbody tr th {\n",
       "        vertical-align: top;\n",
       "    }\n",
       "\n",
       "    .dataframe thead th {\n",
       "        text-align: right;\n",
       "    }\n",
       "</style>\n",
       "<table border=\"1\" class=\"dataframe\">\n",
       "  <thead>\n",
       "    <tr style=\"text-align: right;\">\n",
       "      <th></th>\n",
       "      <th>Customer_uniq_id</th>\n",
       "      <th>Region</th>\n",
       "      <th>Order_Date</th>\n",
       "      <th>Expected_Delivery_Date</th>\n",
       "      <th>Delivered_Date</th>\n",
       "      <th>product_name</th>\n",
       "      <th>product_main_category</th>\n",
       "      <th>product_subcategory</th>\n",
       "      <th>product_category_filter</th>\n",
       "      <th>product_category_subfilter</th>\n",
       "      <th>product_unique ID</th>\n",
       "      <th>retail_price</th>\n",
       "      <th>discounted_price</th>\n",
       "      <th>product_rating</th>\n",
       "      <th>Brand</th>\n",
       "    </tr>\n",
       "  </thead>\n",
       "  <tbody>\n",
       "    <tr>\n",
       "      <th>0</th>\n",
       "      <td>c2d766ca982eca8304150849735ffef9</td>\n",
       "      <td>North</td>\n",
       "      <td>31-12-2021</td>\n",
       "      <td>03-01-2022</td>\n",
       "      <td>02-01-2022</td>\n",
       "      <td>Alisha Solid Women's Cycling Shorts</td>\n",
       "      <td>Clothing</td>\n",
       "      <td>Women's Clothing</td>\n",
       "      <td>Lingerie, Sleep &amp; Swimwear</td>\n",
       "      <td>Shorts</td>\n",
       "      <td>SRTEH2FF9KEDEFGF</td>\n",
       "      <td>999</td>\n",
       "      <td>379</td>\n",
       "      <td>2.0</td>\n",
       "      <td>Alisha</td>\n",
       "    </tr>\n",
       "    <tr>\n",
       "      <th>1</th>\n",
       "      <td>7f7036a6d550aaa89d34c77bd39a5e48</td>\n",
       "      <td>East</td>\n",
       "      <td>31-12-2021</td>\n",
       "      <td>03-01-2022</td>\n",
       "      <td>02-01-2022</td>\n",
       "      <td>FabHomeDecor Fabric Double Sofa Bed</td>\n",
       "      <td>Furniture</td>\n",
       "      <td>Living Room Furniture</td>\n",
       "      <td>Sofa Beds &amp; Futons</td>\n",
       "      <td>FabHomeDecor Fabric Double Sofa Bed (Finish C...</td>\n",
       "      <td>SBEEH3QGU7MFYJFY</td>\n",
       "      <td>32157</td>\n",
       "      <td>22646</td>\n",
       "      <td>2.0</td>\n",
       "      <td>FabHomeDecor</td>\n",
       "    </tr>\n",
       "    <tr>\n",
       "      <th>2</th>\n",
       "      <td>f449ec65dcbc041b6ae5e6a32717d01b</td>\n",
       "      <td>East</td>\n",
       "      <td>31-12-2021</td>\n",
       "      <td>03-01-2022</td>\n",
       "      <td>02-01-2022</td>\n",
       "      <td>AW Bellies</td>\n",
       "      <td>Footwear</td>\n",
       "      <td>Women's Footwear</td>\n",
       "      <td>Ballerinas</td>\n",
       "      <td>AW Bellies</td>\n",
       "      <td>SHOEH4GRSUBJGZXE</td>\n",
       "      <td>999</td>\n",
       "      <td>499</td>\n",
       "      <td>1.0</td>\n",
       "      <td>AW</td>\n",
       "    </tr>\n",
       "    <tr>\n",
       "      <th>3</th>\n",
       "      <td>0973b37acd0c664e3de26e97e5571454</td>\n",
       "      <td>West</td>\n",
       "      <td>31-12-2021</td>\n",
       "      <td>03-01-2022</td>\n",
       "      <td>02-01-2022</td>\n",
       "      <td>Alisha Solid Women's Cycling Shorts</td>\n",
       "      <td>Clothing</td>\n",
       "      <td>Women's Clothing</td>\n",
       "      <td>Lingerie, Sleep &amp; Swimwear</td>\n",
       "      <td>Shorts</td>\n",
       "      <td>SRTEH2F6HUZMQ6SJ</td>\n",
       "      <td>699</td>\n",
       "      <td>267</td>\n",
       "      <td>5.0</td>\n",
       "      <td>Alisha</td>\n",
       "    </tr>\n",
       "    <tr>\n",
       "      <th>4</th>\n",
       "      <td>bc940ea42ee6bef5ac7cea3fb5cfbee7</td>\n",
       "      <td>West</td>\n",
       "      <td>31-12-2021</td>\n",
       "      <td>03-01-2022</td>\n",
       "      <td>02-01-2022</td>\n",
       "      <td>Sicons All Purpose Arnica Dog Shampoo</td>\n",
       "      <td>Pet Supplies</td>\n",
       "      <td>Grooming</td>\n",
       "      <td>Skin &amp; Coat Care</td>\n",
       "      <td>Shampoo</td>\n",
       "      <td>PSOEH3ZYDMSYARJ5</td>\n",
       "      <td>220</td>\n",
       "      <td>210</td>\n",
       "      <td>5.0</td>\n",
       "      <td>Sicons</td>\n",
       "    </tr>\n",
       "    <tr>\n",
       "      <th>...</th>\n",
       "      <td>...</td>\n",
       "      <td>...</td>\n",
       "      <td>...</td>\n",
       "      <td>...</td>\n",
       "      <td>...</td>\n",
       "      <td>...</td>\n",
       "      <td>...</td>\n",
       "      <td>...</td>\n",
       "      <td>...</td>\n",
       "      <td>...</td>\n",
       "      <td>...</td>\n",
       "      <td>...</td>\n",
       "      <td>...</td>\n",
       "      <td>...</td>\n",
       "      <td>...</td>\n",
       "    </tr>\n",
       "    <tr>\n",
       "      <th>8922</th>\n",
       "      <td>90d30478255e23621e8929ed15c2f6e4</td>\n",
       "      <td>South</td>\n",
       "      <td>01-12-2020</td>\n",
       "      <td>04-12-2020</td>\n",
       "      <td>04-12-2020</td>\n",
       "      <td>Sinina Chanderi Embroidered Salwar Suit Dupatt...</td>\n",
       "      <td>Clothing</td>\n",
       "      <td>Women's Clothing</td>\n",
       "      <td>Ethnic Wear</td>\n",
       "      <td>Fabric</td>\n",
       "      <td>FABEGGHHDFMY8BZU</td>\n",
       "      <td>2980</td>\n",
       "      <td>1490</td>\n",
       "      <td>3.0</td>\n",
       "      <td>Sinina</td>\n",
       "    </tr>\n",
       "    <tr>\n",
       "      <th>8923</th>\n",
       "      <td>20a73e3f41490a73ceeba5f17658db8f</td>\n",
       "      <td>West</td>\n",
       "      <td>01-12-2020</td>\n",
       "      <td>04-12-2020</td>\n",
       "      <td>04-12-2020</td>\n",
       "      <td>Aarushi Fashion Chanderi Embroidered Salwar Su...</td>\n",
       "      <td>Clothing</td>\n",
       "      <td>Women's Clothing</td>\n",
       "      <td>Ethnic Wear</td>\n",
       "      <td>Fabric</td>\n",
       "      <td>FABEG8GFDUWRSNU3</td>\n",
       "      <td>2600</td>\n",
       "      <td>1300</td>\n",
       "      <td>1.0</td>\n",
       "      <td>Aarushi Fashion</td>\n",
       "    </tr>\n",
       "    <tr>\n",
       "      <th>8924</th>\n",
       "      <td>5c1554cd45f9d538c2c6947dbdd59c75</td>\n",
       "      <td>East</td>\n",
       "      <td>01-12-2020</td>\n",
       "      <td>04-12-2020</td>\n",
       "      <td>04-12-2020</td>\n",
       "      <td>Ambika Lahenga Embroidered Lehenga, Choli and ...</td>\n",
       "      <td>Clothing</td>\n",
       "      <td>Women's Clothing</td>\n",
       "      <td>Ethnic Wear</td>\n",
       "      <td>Lehenga Cholis</td>\n",
       "      <td>LEHEGGEHYN4G2RPW</td>\n",
       "      <td>39992</td>\n",
       "      <td>24995</td>\n",
       "      <td>1.0</td>\n",
       "      <td>Ambika Lahenga</td>\n",
       "    </tr>\n",
       "    <tr>\n",
       "      <th>8925</th>\n",
       "      <td>6b737a4deca1ed0e56c179e66036e994</td>\n",
       "      <td>West</td>\n",
       "      <td>01-12-2020</td>\n",
       "      <td>04-12-2020</td>\n",
       "      <td>04-12-2020</td>\n",
       "      <td>Sinina Chanderi Embroidered Salwar Suit Dupatt...</td>\n",
       "      <td>Clothing</td>\n",
       "      <td>Women's Clothing</td>\n",
       "      <td>Ethnic Wear</td>\n",
       "      <td>Fabric</td>\n",
       "      <td>FABEGGHHGSVCHGFV</td>\n",
       "      <td>2000</td>\n",
       "      <td>1000</td>\n",
       "      <td>3.0</td>\n",
       "      <td>Sinina</td>\n",
       "    </tr>\n",
       "    <tr>\n",
       "      <th>8926</th>\n",
       "      <td>a5235ac28d3d5487f54025f9d6b57433</td>\n",
       "      <td>North</td>\n",
       "      <td>01-12-2020</td>\n",
       "      <td>04-12-2020</td>\n",
       "      <td>04-12-2020</td>\n",
       "      <td>Aarushi Fashion Silk Striped Salwar Suit Dupat...</td>\n",
       "      <td>Clothing</td>\n",
       "      <td>Women's Clothing</td>\n",
       "      <td>Ethnic Wear</td>\n",
       "      <td>Fabric</td>\n",
       "      <td>FABEG8GYDAABECZH</td>\n",
       "      <td>2800</td>\n",
       "      <td>1350</td>\n",
       "      <td>4.0</td>\n",
       "      <td>Aarushi Fashion</td>\n",
       "    </tr>\n",
       "  </tbody>\n",
       "</table>\n",
       "<p>8927 rows × 15 columns</p>\n",
       "</div>"
      ],
      "text/plain": [
       "                      Customer_uniq_id Region  Order_Date  \\\n",
       "0     c2d766ca982eca8304150849735ffef9  North  31-12-2021   \n",
       "1     7f7036a6d550aaa89d34c77bd39a5e48  East   31-12-2021   \n",
       "2     f449ec65dcbc041b6ae5e6a32717d01b  East   31-12-2021   \n",
       "3     0973b37acd0c664e3de26e97e5571454   West  31-12-2021   \n",
       "4     bc940ea42ee6bef5ac7cea3fb5cfbee7   West  31-12-2021   \n",
       "...                                ...    ...         ...   \n",
       "8922  90d30478255e23621e8929ed15c2f6e4  South  01-12-2020   \n",
       "8923  20a73e3f41490a73ceeba5f17658db8f   West  01-12-2020   \n",
       "8924  5c1554cd45f9d538c2c6947dbdd59c75  East   01-12-2020   \n",
       "8925  6b737a4deca1ed0e56c179e66036e994   West  01-12-2020   \n",
       "8926  a5235ac28d3d5487f54025f9d6b57433  North  01-12-2020   \n",
       "\n",
       "     Expected_Delivery_Date Delivered_Date  \\\n",
       "0                03-01-2022     02-01-2022   \n",
       "1                03-01-2022     02-01-2022   \n",
       "2                03-01-2022     02-01-2022   \n",
       "3                03-01-2022     02-01-2022   \n",
       "4                03-01-2022     02-01-2022   \n",
       "...                     ...            ...   \n",
       "8922             04-12-2020     04-12-2020   \n",
       "8923             04-12-2020     04-12-2020   \n",
       "8924             04-12-2020     04-12-2020   \n",
       "8925             04-12-2020     04-12-2020   \n",
       "8926             04-12-2020     04-12-2020   \n",
       "\n",
       "                                           product_name product_main_category  \\\n",
       "0                   Alisha Solid Women's Cycling Shorts             Clothing    \n",
       "1                   FabHomeDecor Fabric Double Sofa Bed            Furniture    \n",
       "2                                            AW Bellies             Footwear    \n",
       "3                   Alisha Solid Women's Cycling Shorts             Clothing    \n",
       "4                 Sicons All Purpose Arnica Dog Shampoo         Pet Supplies    \n",
       "...                                                 ...                   ...   \n",
       "8922  Sinina Chanderi Embroidered Salwar Suit Dupatt...             Clothing    \n",
       "8923  Aarushi Fashion Chanderi Embroidered Salwar Su...             Clothing    \n",
       "8924  Ambika Lahenga Embroidered Lehenga, Choli and ...             Clothing    \n",
       "8925  Sinina Chanderi Embroidered Salwar Suit Dupatt...             Clothing    \n",
       "8926  Aarushi Fashion Silk Striped Salwar Suit Dupat...             Clothing    \n",
       "\n",
       "          product_subcategory       product_category_filter  \\\n",
       "0           Women's Clothing    Lingerie, Sleep & Swimwear    \n",
       "1      Living Room Furniture            Sofa Beds & Futons    \n",
       "2           Women's Footwear                    Ballerinas    \n",
       "3           Women's Clothing    Lingerie, Sleep & Swimwear    \n",
       "4                   Grooming              Skin & Coat Care    \n",
       "...                       ...                           ...   \n",
       "8922        Women's Clothing                   Ethnic Wear    \n",
       "8923        Women's Clothing                   Ethnic Wear    \n",
       "8924        Women's Clothing                   Ethnic Wear    \n",
       "8925        Women's Clothing                   Ethnic Wear    \n",
       "8926        Women's Clothing                   Ethnic Wear    \n",
       "\n",
       "                             product_category_subfilter product_unique ID  \\\n",
       "0                                               Shorts   SRTEH2FF9KEDEFGF   \n",
       "1      FabHomeDecor Fabric Double Sofa Bed (Finish C...  SBEEH3QGU7MFYJFY   \n",
       "2                                            AW Bellies  SHOEH4GRSUBJGZXE   \n",
       "3                                               Shorts   SRTEH2F6HUZMQ6SJ   \n",
       "4                                              Shampoo   PSOEH3ZYDMSYARJ5   \n",
       "...                                                 ...               ...   \n",
       "8922                                            Fabric   FABEGGHHDFMY8BZU   \n",
       "8923                                            Fabric   FABEG8GFDUWRSNU3   \n",
       "8924                                    Lehenga Cholis   LEHEGGEHYN4G2RPW   \n",
       "8925                                            Fabric   FABEGGHHGSVCHGFV   \n",
       "8926                                            Fabric   FABEG8GYDAABECZH   \n",
       "\n",
       "      retail_price  discounted_price  product_rating            Brand  \n",
       "0              999               379             2.0           Alisha  \n",
       "1            32157             22646             2.0     FabHomeDecor  \n",
       "2              999               499             1.0               AW  \n",
       "3              699               267             5.0           Alisha  \n",
       "4              220               210             5.0           Sicons  \n",
       "...            ...               ...             ...              ...  \n",
       "8922          2980              1490             3.0           Sinina  \n",
       "8923          2600              1300             1.0  Aarushi Fashion  \n",
       "8924         39992             24995             1.0   Ambika Lahenga  \n",
       "8925          2000              1000             3.0           Sinina  \n",
       "8926          2800              1350             4.0  Aarushi Fashion  \n",
       "\n",
       "[8927 rows x 15 columns]"
      ]
     },
     "execution_count": 109,
     "metadata": {},
     "output_type": "execute_result"
    }
   ],
   "source": [
    "# pd.DataFrame.drop() method with axis=1 will drop the columns from the dataframe\n",
    "ECom_Data.drop(['product_specifications','description'],axis=1)"
   ]
  },
  {
   "cell_type": "code",
   "execution_count": 110,
   "id": "3024f4cd",
   "metadata": {},
   "outputs": [
    {
     "data": {
      "text/plain": [
       "(8927, 17)"
      ]
     },
     "execution_count": 110,
     "metadata": {},
     "output_type": "execute_result"
    }
   ],
   "source": [
    "ECom_Data.shape"
   ]
  },
  {
   "cell_type": "markdown",
   "id": "63794ba3",
   "metadata": {},
   "source": [
    "### Although the drop is executed it is not permanently deleted from the data frame as shape attribute is still showing 17 Columns in ECom_Data"
   ]
  },
  {
   "cell_type": "code",
   "execution_count": 111,
   "id": "7d633c16",
   "metadata": {},
   "outputs": [],
   "source": [
    "ECom_Data.drop(['product_specifications','description'],axis=1, inplace=True)"
   ]
  },
  {
   "cell_type": "markdown",
   "id": "e6159f6a",
   "metadata": {},
   "source": [
    "### Ans 2 b) ECom_Data.drop(['product_specifications','description'],axis=1,inplace=True) <u>inplace=True</u> argument in the drop method will drop the columns permanently from the DataFrame"
   ]
  },
  {
   "cell_type": "code",
   "execution_count": 112,
   "id": "a325388b",
   "metadata": {},
   "outputs": [
    {
     "data": {
      "text/plain": [
       "(8927, 15)"
      ]
     },
     "execution_count": 112,
     "metadata": {},
     "output_type": "execute_result"
    }
   ],
   "source": [
    "ECom_Data.shape"
   ]
  },
  {
   "cell_type": "markdown",
   "id": "1bace84b",
   "metadata": {},
   "source": [
    "### The confirmation of the drop can be verified by .shape attribute as the number of columns is 15 now"
   ]
  },
  {
   "cell_type": "markdown",
   "id": "cde421e0",
   "metadata": {},
   "source": [
    "<font color='blue'>\n",
    "    <font size = 5>\n",
    "        The next steps in this project involves summarization of data at various levels and visualization. Apparently, such simple steps are very useful to get an overall sense of the data.\n",
    "    </font>"
   ]
  },
  {
   "cell_type": "markdown",
   "id": "41c30ad7",
   "metadata": {},
   "source": [
    "## Q 3. Here we summarize the data at Brand level.\n",
    "## a) How many unique Brand are there? (2 marks)\n",
    "## b) Note that each Brand contains multiple products. Show the average product_rating within each Brand (2 marks)\n"
   ]
  },
  {
   "cell_type": "markdown",
   "id": "beb3f83f",
   "metadata": {},
   "source": [
    "### Ans 3 a) There are 2493 Unique Brands in the data set as seen from the below code"
   ]
  },
  {
   "cell_type": "code",
   "execution_count": 113,
   "id": "41dcb79f",
   "metadata": {},
   "outputs": [
    {
     "data": {
      "text/plain": [
       "2493"
      ]
     },
     "execution_count": 113,
     "metadata": {},
     "output_type": "execute_result"
    }
   ],
   "source": [
    "# pd.DataFrame[column].nunique() method will display the count of unique values per category of the column\n",
    "# As the brand name is String it is converted to lowercase to avoid duplicate enteries\n",
    "ECom_Data['Brand'].str.lower().nunique() "
   ]
  },
  {
   "cell_type": "code",
   "execution_count": 114,
   "id": "b0a46f70",
   "metadata": {},
   "outputs": [
    {
     "data": {
      "text/plain": [
       "2580"
      ]
     },
     "execution_count": 114,
     "metadata": {},
     "output_type": "execute_result"
    }
   ],
   "source": [
    "# Brand name count with converting to lower case\n",
    "ECom_Data['Brand'].nunique()"
   ]
  },
  {
   "cell_type": "markdown",
   "id": "7dfa47f3",
   "metadata": {},
   "source": [
    "### Explanation: If we convert the Brand names to lower and take unique values it can be observed that the count is 2493 where as the unique count of just Brand names as it is 2580, it can be concurred that the same Brand name may be entered in different typecases like Camel Case, Title case,UPPER case or just lower case in the column and also as each Brand is selling different product types, it is safe to assume that the unique brand count should be taken with converting into lower case"
   ]
  },
  {
   "cell_type": "markdown",
   "id": "5083d866",
   "metadata": {},
   "source": [
    "### Ans 3 b) Average Product Rating within each Brand is shown below"
   ]
  },
  {
   "cell_type": "code",
   "execution_count": 115,
   "id": "10018c2c",
   "metadata": {},
   "outputs": [
    {
     "name": "stdout",
     "output_type": "stream",
     "text": [
      "\u001b[1mThe Average Product Rating within each Brand \n",
      "Brand\n",
      "1oak           1.50\n",
      "3a autocare    3.27\n",
      "3d mat         3.00\n",
      "3kfactory      2.00\n",
      "4d             3.60\n",
      "4d mats        4.33\n",
      "5 feelings     4.00\n",
      "69th avenue    2.00\n",
      "720 armour     2.50\n",
      "99gems         2.50\n",
      "Name: product_rating, dtype: float64\n"
     ]
    }
   ],
   "source": [
    "print('\\033[1m'\"The Average Product Rating within each Brand \")\n",
    "Avg_Prd_Rating = ECom_Data.groupby(ECom_Data['Brand'].str.lower()).mean()\n",
    "print(round(Avg_Prd_Rating['product_rating'].head(10),2))"
   ]
  },
  {
   "cell_type": "markdown",
   "id": "0172caf1",
   "metadata": {},
   "source": [
    "### Explanation: The Average Product Rating for within each brand can be displayed by grouping the dataframe by the Brand and applying the mean() function and extracting the Product Rating column fromt the Group Object"
   ]
  },
  {
   "cell_type": "markdown",
   "id": "bbf162af",
   "metadata": {},
   "source": [
    "## Q 4. Next we study the main categories of the products.\n",
    "\n",
    "## a) Create an appropriate plot to show the count of items ordered for each product_main_category. (6 marks).\n",
    "\n",
    "### Hint: Create a bar chart titled \"Product Category type\" where product_main_category are on x-axis and counts are on y-axis.\n",
    "\n",
    "### Note: Both axis labels, i.e. the names of the product_main_category and counts must be clearly legible. \n",
    "\n",
    "## b) From the plot identify for which two product_main_category(s)  maximum and minimum orders were placed. (2 marks)\n",
    "\n",
    "## c) Write code to print out the top 5 product_main_category(s)  in descending order? (3 marks"
   ]
  },
  {
   "cell_type": "markdown",
   "id": "36c72928",
   "metadata": {},
   "source": [
    "### Ans 4 a) The bar chart showing the counts of main category of the products Ordered by customers is shown below:"
   ]
  },
  {
   "cell_type": "code",
   "execution_count": 116,
   "id": "f60dd2c1",
   "metadata": {},
   "outputs": [
    {
     "data": {
      "image/png": "[encoded data removed]",
      "text/plain": [
       "<Figure size 1440x720 with 1 Axes>"
      ]
     },
     "metadata": {
      "needs_background": "light"
     },
     "output_type": "display_data"
    }
   ],
   "source": [
    "plt.figure(figsize=(20,10))\n",
    "sns.countplot(data=ECom_Data,x='product_main_category',order=ECom_Data['product_main_category'].value_counts().index)\n",
    "plt.xticks(rotation=90)\n",
    "plt.yticks(np.arange(0,3200,200))\n",
    "plt.xlabel('Product Main Category',fontdict={'fontsize':14})\n",
    "plt.ylabel('Number of Items Ordered',fontdict={'fontsize':14})\n",
    "plt.title('Product Category type',fontdict={'fontsize':16})\n",
    "plt.show()"
   ]
  },
  {
   "cell_type": "markdown",
   "id": "13a5b355",
   "metadata": {},
   "source": [
    "### Ans 4 b)  From the plot above we can see that <br>&emsp;&emsp;&emsp;&emsp;i) Maximum orders where placed for <i><u> 'Clothing'</i></u> and <u><i>Mobile & Accessories</i></u> and <br>&emsp;&emsp;&emsp;&emsp;ii) Minimum orders were placed for <u><i>Food & Nutrition</i></u> and <u><i>Wearable Smart Devices</i></u> categories."
   ]
  },
  {
   "cell_type": "markdown",
   "id": "415d441c",
   "metadata": {},
   "source": [
    "### The same is confirmed through code below"
   ]
  },
  {
   "cell_type": "code",
   "execution_count": 117,
   "id": "411818bd",
   "metadata": {},
   "outputs": [
    {
     "name": "stdout",
     "output_type": "stream",
     "text": [
      "\u001b[1mTwo product categories with Maximum Orders\n",
      "Clothing                  2952\n",
      "Mobiles & Accessories     1084\n",
      "Name: product_main_category, dtype: int64\n"
     ]
    }
   ],
   "source": [
    "print('\\033[1m'\"Two product categories with Maximum Orders\")\n",
    "print(ECom_Data['product_main_category'].value_counts()[0:2])\n"
   ]
  },
  {
   "cell_type": "code",
   "execution_count": 118,
   "id": "311146ce",
   "metadata": {},
   "outputs": [
    {
     "name": "stdout",
     "output_type": "stream",
     "text": [
      "\u001b[1mTwo product categories with Minimum Orders\n",
      "Food & Nutrition           2\n",
      "Wearable Smart Devices     1\n",
      "Name: product_main_category, dtype: int64"
     ]
    }
   ],
   "source": [
    "print('\\033[1m'\"Two product categories with Minimum Orders\")\n",
    "print(ECom_Data['product_main_category'].value_counts()[-2:],end='')"
   ]
  },
  {
   "cell_type": "markdown",
   "id": "4ea60c92",
   "metadata": {},
   "source": [
    "### Ans 4 c) The top 5 Main Product Categories ordered by customers is printed below in Descending Order"
   ]
  },
  {
   "cell_type": "code",
   "execution_count": 119,
   "id": "7f704116",
   "metadata": {},
   "outputs": [
    {
     "name": "stdout",
     "output_type": "stream",
     "text": [
      "\u001b[1m\n",
      "Clothing                       2952\n",
      "Mobiles & Accessories          1084\n",
      "Automotive                     1001\n",
      "Home Decor & Festive Needs      727\n",
      "Computers                       558\n",
      "Name: product_main_category, dtype: int64\n"
     ]
    }
   ],
   "source": [
    "top5_prod_cat = ECom_Data['product_main_category'].value_counts()[0:5]\n",
    "print('\\033[1m')\n",
    "print(top5_prod_cat)"
   ]
  },
  {
   "cell_type": "markdown",
   "id": "a9f81605",
   "metadata": {},
   "source": [
    "<font color='blue'>\n",
    "    <font size = 5>\n",
    "    In E-commerce, both the retailers (here brands) and the company have to make profit to sustain in the business. \n",
    "    The E-Commerce company has the following rule for computing their own revenue: </font> \n",
    "    \n",
    "####     The company charges  \n",
    "####  (i) 25% on the orders having final price (discounted price) greater than 600\n",
    "\n",
    "#### (ii) 15% on the orders having final price (discounted price) greater than 350 but less than or equal to 600\n",
    "\n",
    "#### (iii) 10% on the orders having final price (discounted price) greater than 100 but less than or equal to 350\n",
    "\n",
    "#### (iv) Otherwise, 5% on the final price (discounted price)    </font> "
   ]
  },
  {
   "cell_type": "markdown",
   "id": "0f255fea",
   "metadata": {},
   "source": [
    "## Q 5. Find the net revenue generated by the E-Commerce company over all orders placed. (6 marks)"
   ]
  },
  {
   "cell_type": "markdown",
   "id": "1f6b8028",
   "metadata": {},
   "source": [
    "### The Net Revenue Generated for the E-Commerence company for overall orders can be caluculated based on the revenue for each order, hence a new column company_revenue is created in the data frame based on the charges of the ECommerce company to the brands"
   ]
  },
  {
   "cell_type": "markdown",
   "id": "31398422",
   "metadata": {},
   "source": [
    "### The following code is to define a function to calculate and return revenue based on the criteria"
   ]
  },
  {
   "cell_type": "code",
   "execution_count": 120,
   "id": "ba08830c",
   "metadata": {},
   "outputs": [],
   "source": [
    "# Function to calculate and return company revenue for the Company based on the charges defined\n",
    "def net_revenue(dp):\n",
    "    ''' The function receives the discounted price \n",
    "        and returns the net revenue rounded to 2 \n",
    "        decimal places according to the given criteria\n",
    "    '''\n",
    "    if dp > 600:\n",
    "        return round(dp*0.25,2)\n",
    "    elif dp > 350 and dp <=600:\n",
    "        return round(dp*0.15,2)\n",
    "    elif dp > 100 and dp <=350:\n",
    "         return round(dp*0.10,2)\n",
    "    else:\n",
    "        return round(dp*0.05,2)"
   ]
  },
  {
   "cell_type": "markdown",
   "id": "a44edbc3",
   "metadata": {},
   "source": [
    "### The following code is to a create a column named 'company_revenue' in the ECom_Data dataframe using the above defined net_revenue() function"
   ]
  },
  {
   "cell_type": "code",
   "execution_count": 121,
   "id": "8d5cbac9",
   "metadata": {},
   "outputs": [
    {
     "data": {
      "text/html": [
       "<div>\n",
       "<style scoped>\n",
       "    .dataframe tbody tr th:only-of-type {\n",
       "        vertical-align: middle;\n",
       "    }\n",
       "\n",
       "    .dataframe tbody tr th {\n",
       "        vertical-align: top;\n",
       "    }\n",
       "\n",
       "    .dataframe thead th {\n",
       "        text-align: right;\n",
       "    }\n",
       "</style>\n",
       "<table border=\"1\" class=\"dataframe\">\n",
       "  <thead>\n",
       "    <tr style=\"text-align: right;\">\n",
       "      <th></th>\n",
       "      <th>discounted_price</th>\n",
       "      <th>company_revenue</th>\n",
       "    </tr>\n",
       "  </thead>\n",
       "  <tbody>\n",
       "    <tr>\n",
       "      <th>0</th>\n",
       "      <td>379</td>\n",
       "      <td>56.85</td>\n",
       "    </tr>\n",
       "    <tr>\n",
       "      <th>1</th>\n",
       "      <td>22646</td>\n",
       "      <td>5661.50</td>\n",
       "    </tr>\n",
       "    <tr>\n",
       "      <th>2</th>\n",
       "      <td>499</td>\n",
       "      <td>74.85</td>\n",
       "    </tr>\n",
       "    <tr>\n",
       "      <th>3</th>\n",
       "      <td>267</td>\n",
       "      <td>26.70</td>\n",
       "    </tr>\n",
       "    <tr>\n",
       "      <th>4</th>\n",
       "      <td>210</td>\n",
       "      <td>21.00</td>\n",
       "    </tr>\n",
       "    <tr>\n",
       "      <th>...</th>\n",
       "      <td>...</td>\n",
       "      <td>...</td>\n",
       "    </tr>\n",
       "    <tr>\n",
       "      <th>8922</th>\n",
       "      <td>1490</td>\n",
       "      <td>372.50</td>\n",
       "    </tr>\n",
       "    <tr>\n",
       "      <th>8923</th>\n",
       "      <td>1300</td>\n",
       "      <td>325.00</td>\n",
       "    </tr>\n",
       "    <tr>\n",
       "      <th>8924</th>\n",
       "      <td>24995</td>\n",
       "      <td>6248.75</td>\n",
       "    </tr>\n",
       "    <tr>\n",
       "      <th>8925</th>\n",
       "      <td>1000</td>\n",
       "      <td>250.00</td>\n",
       "    </tr>\n",
       "    <tr>\n",
       "      <th>8926</th>\n",
       "      <td>1350</td>\n",
       "      <td>337.50</td>\n",
       "    </tr>\n",
       "  </tbody>\n",
       "</table>\n",
       "<p>8927 rows × 2 columns</p>\n",
       "</div>"
      ],
      "text/plain": [
       "      discounted_price  company_revenue\n",
       "0                  379            56.85\n",
       "1                22646          5661.50\n",
       "2                  499            74.85\n",
       "3                  267            26.70\n",
       "4                  210            21.00\n",
       "...                ...              ...\n",
       "8922              1490           372.50\n",
       "8923              1300           325.00\n",
       "8924             24995          6248.75\n",
       "8925              1000           250.00\n",
       "8926              1350           337.50\n",
       "\n",
       "[8927 rows x 2 columns]"
      ]
     },
     "execution_count": 121,
     "metadata": {},
     "output_type": "execute_result"
    }
   ],
   "source": [
    "# The following code creates a new column named 'net_revenue' in the DataFrame\n",
    "# Values will populated with revenue as per the conditions given by using the apply function of the DataFrame\n",
    "ECom_Data['company_revenue']=ECom_Data['discounted_price'].apply(net_revenue)\n",
    "ECom_Data[['discounted_price','company_revenue']]"
   ]
  },
  {
   "cell_type": "markdown",
   "id": "37500971",
   "metadata": {},
   "source": [
    "### Ans 5) E-Commerce Company's Net Revenue Rs : 22,42,221.75 (rounded to nearest rupee is Rs. 22,42,222)"
   ]
  },
  {
   "cell_type": "code",
   "execution_count": 122,
   "id": "a08f326f",
   "metadata": {},
   "outputs": [
    {
     "name": "stdout",
     "output_type": "stream",
     "text": [
      "\u001b[1mThe Net Revenue of the company over all orders is Rs:2242221.75\n",
      "Rounded to nearest rupee would be 2242222\n"
     ]
    }
   ],
   "source": [
    "# Total of the Company Revenue column will be the Net Revenue of the Company for all orders\n",
    "net_rev_all = ECom_Data['company_revenue'].sum()\n",
    "print('\\033[1m'f\"The Net Revenue of the company over all orders is Rs:{net_rev_all}\")\n",
    "print(f'Rounded to nearest rupee would be {round(net_rev_all)}')"
   ]
  },
  {
   "cell_type": "markdown",
   "id": "9161ca8c",
   "metadata": {},
   "source": [
    "<font color='blue'>\n",
    "    <font size = 5>\n",
    "    Now you need to find the revenue for each retailer (Brand)\n",
    "    </font>"
   ]
  },
  {
   "cell_type": "markdown",
   "id": "73dd23c3",
   "metadata": {},
   "source": [
    "## Q6.Calculate the Net BrandRevenue for each Brand and list the top 14 Brand having maximum revenue in descending order (6 marks)\n",
    "#### Hint: Net BrandRevenue is BrandRevenue which is generated after all the deductions. Also, BrandRevenue is different from the E-Commerce company's net revenue."
   ]
  },
  {
   "cell_type": "markdown",
   "id": "c87c2e6c",
   "metadata": {},
   "source": [
    "### The Net Brand Revenue for each brand is calculated below in below steps "
   ]
  },
  {
   "cell_type": "code",
   "execution_count": 123,
   "id": "8b958746",
   "metadata": {},
   "outputs": [],
   "source": [
    "# In order to calculate Net Brand Revenue for each Brand, we can create a column called 'brand_revenue' \n",
    "# for each Brand in the DataFrame\n",
    "# Brand Revenue is discounted price - revenue to company\n",
    "ECom_Data['brand_revenue']=ECom_Data['discounted_price']-ECom_Data['company_revenue']"
   ]
  },
  {
   "cell_type": "code",
   "execution_count": 146,
   "id": "437c69b5",
   "metadata": {},
   "outputs": [],
   "source": [
    "# Now by Grouping the Data Frame and summing the Brand Revenue for each brand we can get Net Brand Revenue for each brand\n",
    "pd.options.display.max_rows = 15\n",
    "pd.options.display.max_rows = 15\n",
    "brands = ECom_Data.groupby(ECom_Data['Brand'].str.lower()).sum()"
   ]
  },
  {
   "cell_type": "markdown",
   "id": "1ec47221",
   "metadata": {},
   "source": [
    "### Ans 6 ) The top 14 brands are listed below in descending order of Maximum Brand Revenue"
   ]
  },
  {
   "cell_type": "code",
   "execution_count": 149,
   "id": "a36d1d22",
   "metadata": {},
   "outputs": [
    {
     "data": {
      "text/plain": [
       "Brand\n",
       "allure auto     498464.25\n",
       "gaga            237390.00\n",
       "slim            212062.60\n",
       "dailyobjects    181980.00\n",
       "diviniti        143115.00\n",
       "thelostpuppy    127287.50\n",
       "regular         126536.50\n",
       "enthopia        123146.25\n",
       "asus             99241.50\n",
       "springwel        88978.50\n",
       "audeze           87219.00\n",
       "lal haveli       74239.95\n",
       "speedwav         68560.20\n",
       "fabhomedecor     67938.00\n",
       "Name: brand_revenue, dtype: float64"
      ]
     },
     "execution_count": 149,
     "metadata": {},
     "output_type": "execute_result"
    }
   ],
   "source": [
    "top14 =brands['brand_revenue'].sort_values(ascending=False).head(14)\n",
    "top14"
   ]
  },
  {
   "cell_type": "markdown",
   "id": "2a2bbd83",
   "metadata": {},
   "source": [
    "<font color='blue'>\n",
    "    <font size = 5>\n",
    "Let us now investigate multiple features for each product to determine any pattern.\n",
    "</font>"
   ]
  },
  {
   "cell_type": "markdown",
   "id": "1aa1834b",
   "metadata": {},
   "source": [
    "## Q 7. Compare prices for each product.\n",
    "\n",
    "## a)\tDraw boxplots of retail_price & discounted_price. (3 marks)\n",
    "\n",
    "## b)\t Are there any outliers? (Yes/No) (1mark)\n",
    "\n",
    "## c)\tCreate a scatterplot of retail_price (x-axis) and discounted_price (y-axis) (3 marks)\n"
   ]
  },
  {
   "cell_type": "markdown",
   "id": "d5aae861",
   "metadata": {},
   "source": [
    "### Ans 7 a) The box plots of the Retail Price and Discounted price columns are as shown below"
   ]
  },
  {
   "cell_type": "code",
   "execution_count": 150,
   "id": "96768c98",
   "metadata": {},
   "outputs": [
    {
     "data": {
      "image/png": "[encoded data removed]",
      "text/plain": [
       "<Figure size 864x360 with 2 Axes>"
      ]
     },
     "metadata": {
      "needs_background": "light"
     },
     "output_type": "display_data"
    }
   ],
   "source": [
    "fig=plt.figure(figsize=(12,5))\n",
    "ax=fig.add_subplot(1,2,1)\n",
    "sns.boxplot(data=ECom_Data, y='retail_price',orient='v')\n",
    "ax.set_title('Box Plot of Retail Price')\n",
    "ax.set_ylabel('Retail Price')\n",
    "ax=fig.add_subplot(1,2,2)\n",
    "sns.boxplot(data=ECom_Data,y='discounted_price',orient='v')\n",
    "ax.set_ylabel('Discounted Price')\n",
    "ax.set_title('Box Plot of Discounted Price')\n",
    "plt.tight_layout()"
   ]
  },
  {
   "cell_type": "markdown",
   "id": "767dbd3f",
   "metadata": {},
   "source": [
    "<font size = 4>\n",
    "<b>\n",
    "\n",
    "&emsp;&emsp;The same box plots with log scale shows that most of the prodcut prices are in the low price range<br>&emsp;&emsp;especially the Discounted Price"
   ]
  },
  {
   "cell_type": "code",
   "execution_count": 151,
   "id": "e5b40bb2",
   "metadata": {},
   "outputs": [
    {
     "data": {
      "image/png": "[encoded data removed]",
      "text/plain": [
       "<Figure size 864x360 with 2 Axes>"
      ]
     },
     "metadata": {
      "needs_background": "light"
     },
     "output_type": "display_data"
    }
   ],
   "source": [
    "fig=plt.figure(figsize=(12,5))\n",
    "ax=fig.add_subplot(1,2,1)\n",
    "sns.boxplot(data=ECom_Data, y='retail_price',orient='v')\n",
    "ax.set_yscale('log')\n",
    "ax.set_title('Box Plot of Retail Price')\n",
    "ax.set_ylabel('Retail Price')\n",
    "ax=fig.add_subplot(1,2,2)\n",
    "sns.boxplot(data=ECom_Data,y='discounted_price',orient='v')\n",
    "ax.set_yscale('log')\n",
    "ax.set_ylabel('Discounted Price')\n",
    "ax.set_title('Box Plot of Discounted Price')\n",
    "plt.tight_layout()"
   ]
  },
  {
   "cell_type": "markdown",
   "id": "78b92e7c",
   "metadata": {},
   "source": [
    "### Ans 7 b) Yes,there are outliers in both the retail price and discounted price columns as observed from the box plots"
   ]
  },
  {
   "cell_type": "markdown",
   "id": "0389c9b8",
   "metadata": {},
   "source": [
    "### Ans 7 c) The scatter plot for Retail Price in x-axis and Discounted Price in y-axis is shown below"
   ]
  },
  {
   "cell_type": "code",
   "execution_count": 152,
   "id": "8a5146b3",
   "metadata": {},
   "outputs": [
    {
     "data": {
      "image/png": "[encoded data removed]",
      "text/plain": [
       "<Figure size 720x360 with 1 Axes>"
      ]
     },
     "metadata": {
      "needs_background": "light"
     },
     "output_type": "display_data"
    }
   ],
   "source": [
    "plt.figure(figsize=(10,5))\n",
    "sns.scatterplot(data=ECom_Data,x='retail_price',y='discounted_price')#,y='discounted_price');\n",
    "plt.xlabel(\"Retail Price\")\n",
    "plt.ylabel(\"Discounted Price\")\n",
    "plt.title(\"Scatter plot between Retail and Discounted Price\")\n",
    "plt.show()"
   ]
  },
  {
   "cell_type": "markdown",
   "id": "3bc47f55",
   "metadata": {},
   "source": [
    "<font color='blue'>\n",
    "    <font size = 5>\n",
    "    The next steps will enable to study brand-level information.\n",
    "    </font>"
   ]
  },
  {
   "cell_type": "markdown",
   "id": "b9bd00f7",
   "metadata": {},
   "source": [
    "## Q 8. Create a new dataframe to include the Brand specific information as stated:\n",
    "## i.\ttotal number of orders placed per Brand\n",
    "## ii.\ttotal retail_price per Brand\n",
    "## iii.\ttotal discounted_price per Brand, and \n",
    "## iv.\ttotal net BrandRevenue generated per Brand. \n",
    "\n",
    "## Also, draw a pairplot using these four features. (6 marks)\n"
   ]
  },
  {
   "cell_type": "markdown",
   "id": "8f83cea9",
   "metadata": {},
   "source": [
    "### Ans 8 i) Total Orders placed per Brand is calculated in the following code"
   ]
  },
  {
   "cell_type": "code",
   "execution_count": 153,
   "id": "e11c76a3",
   "metadata": {},
   "outputs": [],
   "source": [
    "# Grouping data by Brand\n",
    "brand_grp = ECom_Data.groupby(ECom_Data['Brand'].str.lower())"
   ]
  },
  {
   "cell_type": "code",
   "execution_count": 154,
   "id": "ae749847",
   "metadata": {},
   "outputs": [
    {
     "data": {
      "text/plain": [
       "Brand\n",
       "allure auto           469\n",
       "regular               300\n",
       "slim                  267\n",
       "thelostpuppy          250\n",
       "black                 147\n",
       "                     ... \n",
       "mua makeup academy      1\n",
       "mtb                     1\n",
       "msl                     1\n",
       "dispowear               1\n",
       " tarkan                 1\n",
       "Name: Order_Date, Length: 2493, dtype: int64"
      ]
     },
     "execution_count": 154,
     "metadata": {},
     "output_type": "execute_result"
    }
   ],
   "source": [
    "# Total Orders placed per brand are caluculated by taking the count on 'Order_Date' column\n",
    "brand_orders = brand_grp['Order_Date'].count().sort_values(ascending=False)\n",
    "brand_orders"
   ]
  },
  {
   "cell_type": "markdown",
   "id": "41796ef8",
   "metadata": {},
   "source": [
    "### Ans 8 ii) Total Retail Price per Brand is calculated in the following code"
   ]
  },
  {
   "cell_type": "code",
   "execution_count": 155,
   "id": "28862121",
   "metadata": {},
   "outputs": [
    {
     "data": {
      "text/plain": [
       "Brand\n",
       "1oak             1698\n",
       "3a autocare    107059\n",
       "3d mat           7250\n",
       "3kfactory         399\n",
       "4d              17500\n",
       "                ...  \n",
       "zorden           3999\n",
       "zosign           6995\n",
       "zrestha          1999\n",
       "zyxel           64742\n",
       " tarkan          1999\n",
       "Name: retail_price, Length: 2493, dtype: int64"
      ]
     },
     "execution_count": 155,
     "metadata": {},
     "output_type": "execute_result"
    }
   ],
   "source": [
    "# Summing up the retail price for each brand\n",
    "brand_retail_price = brand_grp['retail_price'].sum()\n",
    "brand_retail_price"
   ]
  },
  {
   "cell_type": "markdown",
   "id": "3bf575d1",
   "metadata": {},
   "source": [
    "### Ans 8 iii) Total Discounted price per Brand is calculated in the following steps"
   ]
  },
  {
   "cell_type": "code",
   "execution_count": 156,
   "id": "4d6db1b2",
   "metadata": {},
   "outputs": [
    {
     "data": {
      "text/plain": [
       "Brand\n",
       "1oak            1274\n",
       "3a autocare    74134\n",
       "3d mat          6999\n",
       "3kfactory        174\n",
       "4d              7948\n",
       "               ...  \n",
       "zorden          2799\n",
       "zosign          6995\n",
       "zrestha          899\n",
       "zyxel          35392\n",
       " tarkan          349\n",
       "Name: discounted_price, Length: 2493, dtype: int64"
      ]
     },
     "execution_count": 156,
     "metadata": {},
     "output_type": "execute_result"
    }
   ],
   "source": [
    "# Summing up the discounted price for each brand\n",
    "brand_discounted_price = brand_grp['discounted_price'].sum()\n",
    "brand_discounted_price"
   ]
  },
  {
   "cell_type": "markdown",
   "id": "fc866ef4",
   "metadata": {},
   "source": [
    "### Ans 8 iv) The Net Revenue  per Brand is calculated in the following steps"
   ]
  },
  {
   "cell_type": "code",
   "execution_count": 157,
   "id": "c1f2d482",
   "metadata": {},
   "outputs": [
    {
     "data": {
      "text/plain": [
       "Brand\n",
       "1oak            1015.40\n",
       "3a autocare    55647.90\n",
       "3d mat          5249.25\n",
       "3kfactory        156.60\n",
       "4d              5961.00\n",
       "                 ...   \n",
       "zorden          2099.25\n",
       "zosign          5246.25\n",
       "zrestha          674.25\n",
       "zyxel          26544.00\n",
       " tarkan          314.10\n",
       "Name: brand_revenue, Length: 2493, dtype: float64"
      ]
     },
     "execution_count": 157,
     "metadata": {},
     "output_type": "execute_result"
    }
   ],
   "source": [
    "# Summing up the brand revenue to get Net Brand Revenue for each brand\n",
    "brand_net_revenue = brand_grp['brand_revenue'].sum()\n",
    "brand_net_revenue"
   ]
  },
  {
   "cell_type": "markdown",
   "id": "43eea97b",
   "metadata": {},
   "source": [
    "<font size = 4>\n",
    "<b>\n",
    "\n",
    "&emsp;&emsp;A Separate Data Frame named brand_df is created containing Brand specific information"
   ]
  },
  {
   "cell_type": "code",
   "execution_count": 158,
   "id": "c05454fc",
   "metadata": {},
   "outputs": [
    {
     "data": {
      "text/html": [
       "<div>\n",
       "<style scoped>\n",
       "    .dataframe tbody tr th:only-of-type {\n",
       "        vertical-align: middle;\n",
       "    }\n",
       "\n",
       "    .dataframe tbody tr th {\n",
       "        vertical-align: top;\n",
       "    }\n",
       "\n",
       "    .dataframe thead th {\n",
       "        text-align: right;\n",
       "    }\n",
       "</style>\n",
       "<table border=\"1\" class=\"dataframe\">\n",
       "  <thead>\n",
       "    <tr style=\"text-align: right;\">\n",
       "      <th></th>\n",
       "      <th>orders</th>\n",
       "      <th>total_retail_price</th>\n",
       "      <th>total_discounted_price</th>\n",
       "      <th>total_net_revenue</th>\n",
       "    </tr>\n",
       "    <tr>\n",
       "      <th>Brand</th>\n",
       "      <th></th>\n",
       "      <th></th>\n",
       "      <th></th>\n",
       "      <th></th>\n",
       "    </tr>\n",
       "  </thead>\n",
       "  <tbody>\n",
       "    <tr>\n",
       "      <th>allure auto</th>\n",
       "      <td>469</td>\n",
       "      <td>1973880</td>\n",
       "      <td>664619</td>\n",
       "      <td>498464.25</td>\n",
       "    </tr>\n",
       "    <tr>\n",
       "      <th>regular</th>\n",
       "      <td>300</td>\n",
       "      <td>304545</td>\n",
       "      <td>152979</td>\n",
       "      <td>126536.50</td>\n",
       "    </tr>\n",
       "    <tr>\n",
       "      <th>slim</th>\n",
       "      <td>267</td>\n",
       "      <td>533724</td>\n",
       "      <td>272177</td>\n",
       "      <td>212062.60</td>\n",
       "    </tr>\n",
       "    <tr>\n",
       "      <th>thelostpuppy</th>\n",
       "      <td>250</td>\n",
       "      <td>531750</td>\n",
       "      <td>149750</td>\n",
       "      <td>127287.50</td>\n",
       "    </tr>\n",
       "    <tr>\n",
       "      <th>black</th>\n",
       "      <td>147</td>\n",
       "      <td>130558</td>\n",
       "      <td>46556</td>\n",
       "      <td>40463.15</td>\n",
       "    </tr>\n",
       "  </tbody>\n",
       "</table>\n",
       "</div>"
      ],
      "text/plain": [
       "              orders  total_retail_price  total_discounted_price  \\\n",
       "Brand                                                              \n",
       "allure auto      469             1973880                  664619   \n",
       "regular          300              304545                  152979   \n",
       "slim             267              533724                  272177   \n",
       "thelostpuppy     250              531750                  149750   \n",
       "black            147              130558                   46556   \n",
       "\n",
       "              total_net_revenue  \n",
       "Brand                            \n",
       "allure auto           498464.25  \n",
       "regular               126536.50  \n",
       "slim                  212062.60  \n",
       "thelostpuppy          127287.50  \n",
       "black                  40463.15  "
      ]
     },
     "execution_count": 158,
     "metadata": {},
     "output_type": "execute_result"
    }
   ],
   "source": [
    "# As per probelm statement a new data frame is created by concating the above extracted brand features(Series)  \n",
    "brand_df = pd.concat([brand_orders,brand_retail_price,brand_discounted_price,brand_net_revenue],axis=1)\n",
    "# Renaming the columns as per problem statement\n",
    "brand_df.rename(columns={'Order_Date':'orders','retail_price':'total_retail_price','discounted_price':'total_discounted_price','brand_revenue':'total_net_revenue'},inplace=True)\n",
    "brand_df.head()"
   ]
  },
  {
   "cell_type": "markdown",
   "id": "b7f1890c",
   "metadata": {},
   "source": [
    "### Ans 8) Pairplot using the above four features (Total Brand Orders,Total Retail Price, Total Discounted Price, Total Net Revenue per brand) is plotted below"
   ]
  },
  {
   "cell_type": "code",
   "execution_count": 159,
   "id": "46040445",
   "metadata": {},
   "outputs": [
    {
     "data": {
      "image/png": "[encoded data removed]",
      "text/plain": [
       "<Figure size 720x720 with 20 Axes>"
      ]
     },
     "metadata": {
      "needs_background": "light"
     },
     "output_type": "display_data"
    }
   ],
   "source": [
    "sns.pairplot(data=brand_df,vars=['orders','total_retail_price','total_discounted_price','total_net_revenue'])\n",
    "plt.tight_layout()\n",
    "plt.show()"
   ]
  },
  {
   "cell_type": "markdown",
   "id": "337db8a0",
   "metadata": {},
   "source": [
    "### In the pair plot the histograms are not visible as the most of the product price range is concentrated on the lower band"
   ]
  },
  {
   "cell_type": "markdown",
   "id": "b0c64b92",
   "metadata": {},
   "source": [
    "### The relationship between these brand features can be seen with the correlated data in the heatmap below as well for better understanding"
   ]
  },
  {
   "cell_type": "code",
   "execution_count": 160,
   "id": "646524c6",
   "metadata": {},
   "outputs": [
    {
     "data": {
      "image/png": "[encoded data removed]",
      "text/plain": [
       "<Figure size 432x288 with 1 Axes>"
      ]
     },
     "metadata": {
      "needs_background": "light"
     },
     "output_type": "display_data"
    }
   ],
   "source": [
    "sns.heatmap(data=brand_df.corr(),annot=True,cbar=False);"
   ]
  },
  {
   "cell_type": "markdown",
   "id": "ecec83f4",
   "metadata": {},
   "source": [
    "<font color='blue'>\n",
    "    <font size = 5>\n",
    "    The E-Commerce company operate in multiple regions. It is important to understand its performance in each region.\n",
    "    </font>"
   ]
  },
  {
   "cell_type": "markdown",
   "id": "dd09b8aa",
   "metadata": {},
   "source": [
    "## Q 9.Compare performance regionwise\n",
    "\n",
    "## a)\tDraw a lineplot for the monthly net Revenue of E-Commerce Company for each region separately.  (4 marks) \n",
    "\n",
    "## b)\tIdentify the best and the worst performing months for each region. (2 marks)\n",
    "\n",
    "#### Note: Only those days with actual orders(Order_Date) placed are present in the dataset. Assuming there were no orders on other days"
   ]
  },
  {
   "cell_type": "markdown",
   "id": "6fc3ffbc",
   "metadata": {},
   "source": [
    "### In order to find monthly net revenue of the E-Commerece Company, 'Month' should be extracted from the order date, in order to do that, the 'Order_Date' column should be convertd to datetime object,this is done using pd.to_datetime() method in the code below"
   ]
  },
  {
   "cell_type": "code",
   "execution_count": 161,
   "id": "d9a4f534",
   "metadata": {},
   "outputs": [
    {
     "name": "stdout",
     "output_type": "stream",
     "text": [
      "<class 'pandas.core.frame.DataFrame'>\n",
      "RangeIndex: 8927 entries, 0 to 8926\n",
      "Data columns (total 1 columns):\n",
      " #   Column      Non-Null Count  Dtype         \n",
      "---  ------      --------------  -----         \n",
      " 0   Order_Date  8927 non-null   datetime64[ns]\n",
      "dtypes: datetime64[ns](1)\n",
      "memory usage: 69.9 KB\n"
     ]
    }
   ],
   "source": [
    "ECom_Data['Order_Date'] = pd.to_datetime(ECom_Data['Order_Date'],dayfirst=True)\n",
    "ECom_Data[['Order_Date']].info()"
   ]
  },
  {
   "cell_type": "code",
   "execution_count": 162,
   "id": "8441437a",
   "metadata": {},
   "outputs": [
    {
     "data": {
      "text/plain": [
       "0   2021-12-31\n",
       "1   2021-12-31\n",
       "2   2021-12-31\n",
       "3   2021-12-31\n",
       "4   2021-12-31\n",
       "Name: Order_Date, dtype: datetime64[ns]"
      ]
     },
     "execution_count": 162,
     "metadata": {},
     "output_type": "execute_result"
    }
   ],
   "source": [
    "ECom_Data['Order_Date'].head()"
   ]
  },
  {
   "cell_type": "markdown",
   "id": "28f54612",
   "metadata": {},
   "source": [
    "<font size = 4>\n",
    "<b>\n",
    "\n",
    "&emsp;&emsp;Now the Order Month can be Extracted from the Order Date Column using dt.month method of Series object"
   ]
  },
  {
   "cell_type": "code",
   "execution_count": 163,
   "id": "3bcad690",
   "metadata": {},
   "outputs": [
    {
     "name": "stdout",
     "output_type": "stream",
     "text": [
      "0   2021-12-31\n",
      "1   2021-12-31\n",
      "2   2021-12-31\n",
      "3   2021-12-31\n",
      "4   2021-12-31\n",
      "Name: Order_Date, dtype: datetime64[ns]\n",
      "0    12\n",
      "1    12\n",
      "2    12\n",
      "3    12\n",
      "4    12\n",
      "Name: Order_month, dtype: int64\n"
     ]
    }
   ],
   "source": [
    "ECom_Data['Order_month'] = ECom_Data['Order_Date'].dt.month\n",
    "print(ECom_Data['Order_Date'].head())\n",
    "print(ECom_Data['Order_month'].head())"
   ]
  },
  {
   "cell_type": "markdown",
   "id": "11998458",
   "metadata": {},
   "source": [
    "### It can observed that there are no orders in any Region for the month of November in the E-Commerce Data"
   ]
  },
  {
   "cell_type": "code",
   "execution_count": 164,
   "id": "17645004",
   "metadata": {},
   "outputs": [
    {
     "data": {
      "text/plain": [
       "array([ 1,  2,  3,  4,  5,  6,  7,  8,  9, 10, 12], dtype=int64)"
      ]
     },
     "execution_count": 164,
     "metadata": {},
     "output_type": "execute_result"
    }
   ],
   "source": [
    "ECom_Data['Order_month'].sort_values().unique()"
   ]
  },
  {
   "cell_type": "markdown",
   "id": "06228f08",
   "metadata": {},
   "source": [
    "### To plot Net Revenue per month per Region, we can group the Data with Region and Order Month and sum up the company revneue"
   ]
  },
  {
   "cell_type": "code",
   "execution_count": 165,
   "id": "1fe3d4c0",
   "metadata": {},
   "outputs": [
    {
     "data": {
      "text/html": [
       "<div>\n",
       "<style scoped>\n",
       "    .dataframe tbody tr th:only-of-type {\n",
       "        vertical-align: middle;\n",
       "    }\n",
       "\n",
       "    .dataframe tbody tr th {\n",
       "        vertical-align: top;\n",
       "    }\n",
       "\n",
       "    .dataframe thead th {\n",
       "        text-align: right;\n",
       "    }\n",
       "</style>\n",
       "<table border=\"1\" class=\"dataframe\">\n",
       "  <thead>\n",
       "    <tr style=\"text-align: right;\">\n",
       "      <th></th>\n",
       "      <th></th>\n",
       "      <th>company_revenue</th>\n",
       "    </tr>\n",
       "    <tr>\n",
       "      <th>Region</th>\n",
       "      <th>Order_month</th>\n",
       "      <th></th>\n",
       "    </tr>\n",
       "  </thead>\n",
       "  <tbody>\n",
       "    <tr>\n",
       "      <th rowspan=\"5\" valign=\"top\">East</th>\n",
       "      <th>1</th>\n",
       "      <td>218740.60</td>\n",
       "    </tr>\n",
       "    <tr>\n",
       "      <th>2</th>\n",
       "      <td>14347.25</td>\n",
       "    </tr>\n",
       "    <tr>\n",
       "      <th>3</th>\n",
       "      <td>124934.10</td>\n",
       "    </tr>\n",
       "    <tr>\n",
       "      <th>4</th>\n",
       "      <td>56293.05</td>\n",
       "    </tr>\n",
       "    <tr>\n",
       "      <th>5</th>\n",
       "      <td>24230.50</td>\n",
       "    </tr>\n",
       "  </tbody>\n",
       "</table>\n",
       "</div>"
      ],
      "text/plain": [
       "                    company_revenue\n",
       "Region Order_month                 \n",
       "East   1                  218740.60\n",
       "       2                   14347.25\n",
       "       3                  124934.10\n",
       "       4                   56293.05\n",
       "       5                   24230.50"
      ]
     },
     "execution_count": 165,
     "metadata": {},
     "output_type": "execute_result"
    }
   ],
   "source": [
    "# The Ecommerce data is grouped with two levels i.e Region and Order Month and the net revenue is added for the each month\n",
    "reg_month_gp = pd.DataFrame(ECom_Data.groupby(['Region','Order_month'])['company_revenue'].sum())\n",
    "reg_month_gp.head()"
   ]
  },
  {
   "cell_type": "markdown",
   "id": "1ce8f898",
   "metadata": {},
   "source": [
    "### The above multiindex dataframe is converted back to two dimensional data frame for plotting purpose using the unstack() method of groupdataframe Object and also renaming the columns"
   ]
  },
  {
   "cell_type": "code",
   "execution_count": 166,
   "id": "d5901877",
   "metadata": {},
   "outputs": [
    {
     "data": {
      "text/html": [
       "<div>\n",
       "<style scoped>\n",
       "    .dataframe tbody tr th:only-of-type {\n",
       "        vertical-align: middle;\n",
       "    }\n",
       "\n",
       "    .dataframe tbody tr th {\n",
       "        vertical-align: top;\n",
       "    }\n",
       "\n",
       "    .dataframe thead th {\n",
       "        text-align: right;\n",
       "    }\n",
       "</style>\n",
       "<table border=\"1\" class=\"dataframe\">\n",
       "  <thead>\n",
       "    <tr style=\"text-align: right;\">\n",
       "      <th></th>\n",
       "      <th>company_revenue_East</th>\n",
       "      <th>company_revenue_North</th>\n",
       "      <th>company_revenue_South</th>\n",
       "      <th>company_revenue_West</th>\n",
       "    </tr>\n",
       "    <tr>\n",
       "      <th>Order_month</th>\n",
       "      <th></th>\n",
       "      <th></th>\n",
       "      <th></th>\n",
       "      <th></th>\n",
       "    </tr>\n",
       "  </thead>\n",
       "  <tbody>\n",
       "    <tr>\n",
       "      <th>1</th>\n",
       "      <td>218740.60</td>\n",
       "      <td>96015.10</td>\n",
       "      <td>52815.80</td>\n",
       "      <td>145593.75</td>\n",
       "    </tr>\n",
       "    <tr>\n",
       "      <th>2</th>\n",
       "      <td>14347.25</td>\n",
       "      <td>7137.35</td>\n",
       "      <td>4670.85</td>\n",
       "      <td>15020.90</td>\n",
       "    </tr>\n",
       "    <tr>\n",
       "      <th>3</th>\n",
       "      <td>124934.10</td>\n",
       "      <td>40733.95</td>\n",
       "      <td>61932.15</td>\n",
       "      <td>119632.50</td>\n",
       "    </tr>\n",
       "    <tr>\n",
       "      <th>4</th>\n",
       "      <td>56293.05</td>\n",
       "      <td>29758.35</td>\n",
       "      <td>18550.10</td>\n",
       "      <td>46845.20</td>\n",
       "    </tr>\n",
       "    <tr>\n",
       "      <th>5</th>\n",
       "      <td>24230.50</td>\n",
       "      <td>13106.50</td>\n",
       "      <td>3708.75</td>\n",
       "      <td>18631.85</td>\n",
       "    </tr>\n",
       "    <tr>\n",
       "      <th>6</th>\n",
       "      <td>54231.60</td>\n",
       "      <td>29552.35</td>\n",
       "      <td>19550.75</td>\n",
       "      <td>40579.80</td>\n",
       "    </tr>\n",
       "    <tr>\n",
       "      <th>7</th>\n",
       "      <td>351.35</td>\n",
       "      <td>306.00</td>\n",
       "      <td>NaN</td>\n",
       "      <td>537.00</td>\n",
       "    </tr>\n",
       "    <tr>\n",
       "      <th>8</th>\n",
       "      <td>824.75</td>\n",
       "      <td>374.75</td>\n",
       "      <td>NaN</td>\n",
       "      <td>736.75</td>\n",
       "    </tr>\n",
       "    <tr>\n",
       "      <th>9</th>\n",
       "      <td>680.15</td>\n",
       "      <td>NaN</td>\n",
       "      <td>NaN</td>\n",
       "      <td>NaN</td>\n",
       "    </tr>\n",
       "    <tr>\n",
       "      <th>10</th>\n",
       "      <td>202.25</td>\n",
       "      <td>NaN</td>\n",
       "      <td>NaN</td>\n",
       "      <td>236.75</td>\n",
       "    </tr>\n",
       "    <tr>\n",
       "      <th>12</th>\n",
       "      <td>375491.85</td>\n",
       "      <td>201553.55</td>\n",
       "      <td>95088.25</td>\n",
       "      <td>309225.25</td>\n",
       "    </tr>\n",
       "  </tbody>\n",
       "</table>\n",
       "</div>"
      ],
      "text/plain": [
       "             company_revenue_East   company_revenue_North  \\\n",
       "Order_month                                                 \n",
       "1                        218740.60               96015.10   \n",
       "2                         14347.25                7137.35   \n",
       "3                        124934.10               40733.95   \n",
       "4                         56293.05               29758.35   \n",
       "5                         24230.50               13106.50   \n",
       "6                         54231.60               29552.35   \n",
       "7                           351.35                 306.00   \n",
       "8                           824.75                 374.75   \n",
       "9                           680.15                    NaN   \n",
       "10                          202.25                    NaN   \n",
       "12                       375491.85              201553.55   \n",
       "\n",
       "             company_revenue_South  company_revenue_West  \n",
       "Order_month                                               \n",
       "1                         52815.80             145593.75  \n",
       "2                          4670.85              15020.90  \n",
       "3                         61932.15             119632.50  \n",
       "4                         18550.10              46845.20  \n",
       "5                          3708.75              18631.85  \n",
       "6                         19550.75              40579.80  \n",
       "7                              NaN                537.00  \n",
       "8                              NaN                736.75  \n",
       "9                              NaN                   NaN  \n",
       "10                             NaN                236.75  \n",
       "12                        95088.25             309225.25  "
      ]
     },
     "execution_count": 166,
     "metadata": {},
     "output_type": "execute_result"
    }
   ],
   "source": [
    "pd.options.display.max_rows = 40\n",
    "reg_month_final = reg_month_gp.unstack(0)\n",
    "reg_month_final.columns=['_'.join(col) for col in reg_month_final.columns]\n",
    "reg_month_final"
   ]
  },
  {
   "cell_type": "code",
   "execution_count": 167,
   "id": "1c03b05c",
   "metadata": {},
   "outputs": [
    {
     "data": {
      "text/plain": [
       "company_revenue_East     0\n",
       "company_revenue_North    2\n",
       "company_revenue_South    4\n",
       "company_revenue_West     1\n",
       "dtype: int64"
      ]
     },
     "execution_count": 167,
     "metadata": {},
     "output_type": "execute_result"
    }
   ],
   "source": [
    "reg_month_final.isnull().sum()"
   ]
  },
  {
   "cell_type": "markdown",
   "id": "710bc4c2",
   "metadata": {},
   "source": [
    "### It can observed that there is no Net revenue (orders) for months (August, September) 8,9 for North Region, (July,Aug,Sept,Oct) 7,8,9,10 for South Region and (September) 9 for West Region and the observations are in NaN i.e Not a Number"
   ]
  },
  {
   "cell_type": "markdown",
   "id": "855db775",
   "metadata": {},
   "source": [
    "### For plot continuity these NaN values are filled with 0.0 in the following code and also the columns are renamed for plotting purpose"
   ]
  },
  {
   "cell_type": "code",
   "execution_count": 168,
   "id": "b69eae43",
   "metadata": {},
   "outputs": [],
   "source": [
    "reg_month_final.fillna(0.0,inplace=True,axis=1)\n",
    "reg_month_final.rename(columns={'company_revenue_East ': 'East', \n",
    "                'company_revenue_North':'North',\n",
    "                'company_revenue_South':'South',\n",
    "                'company_revenue_West':'West'\n",
    "               },inplace=True)"
   ]
  },
  {
   "cell_type": "code",
   "execution_count": 169,
   "id": "53e5f186",
   "metadata": {},
   "outputs": [
    {
     "name": "stdout",
     "output_type": "stream",
     "text": [
      "\u001b[1mEast_Net Revenue : 870327\n",
      "\u001b[1mNorth_Net Revenue : 418538\n",
      "\u001b[1mSouth_Net Revenue : 256317\n",
      "\u001b[1mWest_Net Revenue : 697040\n"
     ]
    }
   ],
   "source": [
    "reg_month_final\n",
    "east_nr = round(reg_month_final['East'].sum())\n",
    "north_nr = round(reg_month_final['North'].sum())\n",
    "west_nr = round(reg_month_final['West'].sum())\n",
    "south_nr = round(reg_month_final['South'].sum())\n",
    "for i in reg_month_final.columns:\n",
    "    print('\\033[1m'f\"{i}_Net Revenue : {round(reg_month_final[i].sum())}\")"
   ]
  },
  {
   "cell_type": "markdown",
   "id": "d9f3b3ba",
   "metadata": {},
   "source": [
    "### Ans 9 a) The line plot showing monthly net Revenue of the E-Commerce company for each region is<br>&emsp;&emsp;shown below separtely using the .plot() function of pandas"
   ]
  },
  {
   "cell_type": "code",
   "execution_count": 170,
   "id": "4f3e6ae8",
   "metadata": {},
   "outputs": [
    {
     "data": {
      "image/png": "[encoded data removed]",
      "text/plain": [
       "<Figure size 864x864 with 4 Axes>"
      ]
     },
     "metadata": {
      "needs_background": "light"
     },
     "output_type": "display_data"
    }
   ],
   "source": [
    "reg_month_final.plot(kind='line',subplots=True,\n",
    "    figsize=(12,12),layout=(2,2),\n",
    "    xticks=(np.arange(1,13,1)),\n",
    "    marker='o',\n",
    "    xlabel='Months',\n",
    "    ylabel='Net Revenue',\n",
    "    sharex=False,\n",
    "    #title='Line plots showing month wise Net Revenue for the Company in each Region',\n",
    "    title = [ f'East Net Revenue-{east_nr}',\n",
    "              f'North Net Revenue-{north_nr}',\n",
    "              f'South Net Revenue-{south_nr}',\n",
    "              f'West Net Revenue-{west_nr}'])\n",
    "plt.tight_layout()\n"
   ]
  },
  {
   "cell_type": "markdown",
   "id": "b767aaec",
   "metadata": {},
   "source": [
    "### Ans 9 b) "
   ]
  },
  {
   "cell_type": "markdown",
   "id": "b845653c",
   "metadata": {},
   "source": [
    "<font size = 4>\n",
    "<b>\n",
    "\n",
    "&emsp;&emsp;The Best and Worst Performing months for Each Region from the line plots  are"
   ]
  },
  {
   "cell_type": "markdown",
   "id": "fae6e110",
   "metadata": {},
   "source": [
    "<font size = 4>\n",
    "<b>\n",
    "\n",
    "&emsp;&emsp;9 b )1 - December is the Best Performing Month for all the Regions"
   ]
  },
  {
   "cell_type": "markdown",
   "id": "d891639a",
   "metadata": {},
   "source": [
    "<font size = 4>\n",
    "<b>\n",
    "\n",
    "&emsp;&emsp;9 b)2-July,August,September,October and November are the Worst performing months for all the regions<br>\n",
    "&emsp;&emsp;&emsp;&emsp;&emsp;East Region has least revenue for the month of Oct<br>\n",
    "&emsp;&emsp;&emsp;&emsp;&emsp;North Region has no revenue for the months of Sept,Oct,and Nov<br>\n",
    "&emsp;&emsp;&emsp;&emsp;&emsp;South Region has no revenue for the months of July,Aug,Sept,Oct,Nov<br>\n",
    "&emsp;&emsp;&emsp;&emsp;&emsp;West Region has no revenue for the months of Sept and Nov<br>"
   ]
  },
  {
   "cell_type": "markdown",
   "id": "0377d014",
   "metadata": {},
   "source": [
    "<font size = 4>\n",
    "<b>\n",
    "\n",
    "&emsp;&emsp;Conclusion:<br> \n",
    "&emsp;&emsp;Overall all the regions have same less revenue generating months i.e from July till November<br><br>\n",
    "&emsp;&emsp;East ,West,North and South is the order of highest to lowest revenue generating regions"
   ]
  },
  {
   "cell_type": "markdown",
   "id": "fdd2353f",
   "metadata": {},
   "source": [
    "<font size = 4>\n",
    "<b>\n",
    "\n",
    "&emsp;&emsp;The same can be observed more clearly from the Bar Plot Below"
   ]
  },
  {
   "cell_type": "code",
   "execution_count": 171,
   "id": "9b04241b",
   "metadata": {},
   "outputs": [
    {
     "data": {
      "image/png": "[encoded data removed]",
      "text/plain": [
       "<Figure size 720x504 with 4 Axes>"
      ]
     },
     "metadata": {
      "needs_background": "light"
     },
     "output_type": "display_data"
    }
   ],
   "source": [
    "# bx=reg_month_gp.unstack(0)\n",
    "reg_month_final.plot(kind='bar',subplots=True,\n",
    "        layout=(2,2),rot=1,figsize=(10,7),\n",
    "        logy=True,\n",
    "        xlim=(1,12),\n",
    "        xlabel='Months',\n",
    "        ylabel='Net Revenue',\n",
    "        grid=True,\n",
    "        sharex=False,\n",
    "        sharey=True,\n",
    "        title='Bar plot showing month wise net Revenue for the Company in each Region',\n",
    "        legend=False,\n",
    "      );\n",
    "plt.tight_layout()"
   ]
  },
  {
   "cell_type": "markdown",
   "id": "dcb8d39f",
   "metadata": {},
   "source": [
    "<font color='blue'>\n",
    "    <font size = 5>\n",
    "    Congratulations! You have learnt how to approach a complex data and extract information out of it. \n",
    "    </font>"
   ]
  }
 ],
 "metadata": {
  "kernelspec": {
   "display_name": "Python 3 (ipykernel)",
   "language": "python",
   "name": "python3"
  },
  "language_info": {
   "codemirror_mode": {
    "name": "ipython",
    "version": 3
   },
   "file_extension": ".py",
   "mimetype": "text/x-python",
   "name": "python",
   "nbconvert_exporter": "python",
   "pygments_lexer": "ipython3",
   "version": "3.9.12"
  }
 },
 "nbformat": 4,
 "nbformat_minor": 5
}
